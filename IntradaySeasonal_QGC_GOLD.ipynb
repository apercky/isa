{
  "nbformat": 4,
  "nbformat_minor": 0,
  "metadata": {
    "colab": {
      "name": "IntradaySeasonal-QGC_GOLD.ipynb",
      "provenance": [],
      "collapsed_sections": [],
      "include_colab_link": true
    },
    "kernelspec": {
      "name": "python3",
      "display_name": "Python 3"
    }
  },
  "cells": [
    {
      "cell_type": "markdown",
      "metadata": {
        "id": "view-in-github",
        "colab_type": "text"
      },
      "source": [
        "<a href=\"https://colab.research.google.com/github/apercky/isa/blob/master/IntradaySeasonal_QGC_GOLD.ipynb\" target=\"_parent\"><img src=\"https://colab.research.google.com/assets/colab-badge.svg\" alt=\"Open In Colab\"/></a>"
      ]
    },
    {
      "cell_type": "markdown",
      "metadata": {
        "id": "JqFxxVyBtRDS",
        "colab_type": "text"
      },
      "source": [
        "# Intraday Seasonal Analysis - Gold Future (QGC#C iQfeed)\n",
        "\n",
        "Inspired by the famous site, this analysis tries to generate a graph that shows the bias on the historical series in a similar way to that famous site."
      ]
    },
    {
      "cell_type": "code",
      "metadata": {
        "id": "uR09Bwn8hLkr",
        "colab_type": "code",
        "colab": {}
      },
      "source": [
        "import numpy as np\n",
        "import pandas as pd\n",
        "import matplotlib.pyplot as plt\n",
        "from pandas.tseries.offsets import *"
      ],
      "execution_count": 0,
      "outputs": []
    },
    {
      "cell_type": "code",
      "metadata": {
        "id": "HfKL560ziJri",
        "colab_type": "code",
        "colab": {}
      },
      "source": [
        "import plotly.graph_objects as go\n",
        "import pandas as pd\n",
        "from datetime import datetime\n",
        "from collections import OrderedDict"
      ],
      "execution_count": 0,
      "outputs": []
    },
    {
      "cell_type": "markdown",
      "metadata": {
        "id": "9mL4qJdo5Yal",
        "colab_type": "text"
      },
      "source": [
        "## Export data from Multicharts\n",
        "\n",
        "<img src=\"https://analysis-cdn.s3.us-east-2.amazonaws.com/Schermata+2019-10-16+alle+15.22.04.png\" alt=\"Drawing\" width=\"600\"/>"
      ]
    },
    {
      "cell_type": "markdown",
      "metadata": {
        "id": "X0Lmhq2luZ80",
        "colab_type": "text"
      },
      "source": [
        "## Upload you data\n",
        "Once you exported your data from Multicharts, you havo to upload on Colab Files (*or other path if you run in local environment*)"
      ]
    },
    {
      "cell_type": "code",
      "metadata": {
        "id": "VsJNDlDOSFIf",
        "colab_type": "code",
        "colab": {}
      },
      "source": [
        "# Export data from Multicharts at minutes basis\n",
        "# Upload file in colab Files\n",
        "\n",
        "# Load from Colab Files\n",
        "df = pd.read_csv('/content/drive/My Drive/QGC#C-Minute-Trade.txt', \n",
        "            delimiter = ',', skiprows=1, \n",
        "            names=[\"Date\",\"Time\",\"Open\",\"High\",\"Low\",\"Close\",\"TotalVolume\"])"
      ],
      "execution_count": 0,
      "outputs": []
    },
    {
      "cell_type": "markdown",
      "metadata": {
        "id": "V3LW9HY-1Hhm",
        "colab_type": "text"
      },
      "source": [
        "## Index creation\n",
        "The Multichart export includes Date and Time as two separate columns. We need to merge them an use the resulting column as index."
      ]
    },
    {
      "cell_type": "code",
      "metadata": {
        "id": "VQrvvSgcqj2l",
        "colab_type": "code",
        "colab": {}
      },
      "source": [
        "# Create the index from Date and Time columns\n",
        "df['DateTime'] = pd.to_datetime(df['Date'] + ' ' + df['Time'], format=\"%m/%d/%Y %H:%M:%S\")\n",
        "df.set_index(df['DateTime'], inplace=True)\n",
        "\n",
        "# Remove unused columns\n",
        "del df['Date']\n",
        "del df['Time']"
      ],
      "execution_count": 0,
      "outputs": []
    },
    {
      "cell_type": "code",
      "metadata": {
        "id": "C9geYL7Mzh3n",
        "colab_type": "code",
        "colab": {}
      },
      "source": [
        "# Start analysis from 2010\n",
        "df = df[(df.index.year >= 2010)]"
      ],
      "execution_count": 0,
      "outputs": []
    },
    {
      "cell_type": "markdown",
      "metadata": {
        "id": "Uz7bnV98wz-E",
        "colab_type": "text"
      },
      "source": [
        "## Data resampling\n",
        "Resampling data at 15 minutes bars. We also move the start of week to Sunday which is the start of trading week."
      ]
    },
    {
      "cell_type": "code",
      "metadata": {
        "id": "vtItuuRuqnJU",
        "colab_type": "code",
        "colab": {}
      },
      "source": [
        "# Resampling OHLC \n",
        "df_resampled = df.resample('15min').agg({'Open' : 'first', \n",
        "                                'High' : 'max', \n",
        "                                'Low'  : 'min', \n",
        "                                'Close': 'last'})\n",
        "df_resampled['Time'] = df_resampled.index.time\n",
        "\n",
        "# Move the start of weekday on Sunday, because normaly it starts on Monday\n",
        "df_resampled['WeekDay'] = (df_resampled.index.weekday + 1) % 7\n",
        "\n",
        "df_resampled.dropna(inplace=True)\n",
        "# df_resampled.plot()"
      ],
      "execution_count": 0,
      "outputs": []
    },
    {
      "cell_type": "markdown",
      "metadata": {
        "id": "CIvAklClxx_L",
        "colab_type": "text"
      },
      "source": [
        "## Mark the starts of the week\n",
        "We need a marker that makes easy to keep track the first bar of the week. In this section we use \"FirstBarOfWeek\" column for this goal.\n",
        "\n",
        "The \"Diff\" column will be calculate with weekly reset, with value that goes back to zero weekly."
      ]
    },
    {
      "cell_type": "code",
      "metadata": {
        "id": "keE-TpMSnzH9",
        "colab_type": "code",
        "colab": {}
      },
      "source": [
        "# Create a column with a flag that will be set to 1 at the first bar of week\n",
        "# It is used for weekly reset in calculation\n",
        "df_resampled['FirstBarOfWeek'] = 0\n",
        "df_resampled.loc[(df_resampled['WeekDay'] == 0), 'FirstBarOfWeek'] = 1\n",
        "df_resampled['FirstBarOfWeek'] = np.where(df_resampled['FirstBarOfWeek'] == df_resampled['FirstBarOfWeek'].shift(1) , 0, 1)\n",
        "\n",
        "# calculate change that starts from zero any weeks\n",
        "#df_resampled['Diff'] = np.where(df_resampled['FirstBarOfWeek'] ==1 , 0, df_resampled['Close'] - df_resampled['Close'].shift(1))\n",
        "df_resampled['Diff'] = df_resampled['Close'] - df_resampled['Close'].shift(1)\n",
        "\n",
        "df_resampled.dropna(inplace=True)\n"
      ],
      "execution_count": 0,
      "outputs": []
    },
    {
      "cell_type": "markdown",
      "metadata": {
        "id": "KzArt8JyyRdT",
        "colab_type": "text"
      },
      "source": [
        "## Cumulative difference calculation \n",
        "This will be calculate as weekly reset like the \"Diff\" column."
      ]
    },
    {
      "cell_type": "code",
      "metadata": {
        "id": "y8aTlDVspASu",
        "colab_type": "code",
        "colab": {}
      },
      "source": [
        "# This is a trick, it is useful for reset the cumsum at new week\n",
        "\n",
        "# Cumsum with reset\n",
        "df_resampled['reset'] = df_resampled['FirstBarOfWeek'].cumsum()\n",
        "\n",
        "# Calculate the cumulative sum of differences\n",
        "df_resampled['DiffCum']= df_resampled.groupby(['reset'])['Diff'].cumsum()\n",
        "\n",
        "# Remove the reset column\n",
        "df_resampled = df_resampled.drop(['reset'], axis=1)\n"
      ],
      "execution_count": 0,
      "outputs": []
    },
    {
      "cell_type": "markdown",
      "metadata": {
        "id": "CEDbU6CHz3JY",
        "colab_type": "text"
      },
      "source": [
        "## Prepare data for visualization \n",
        "Get a copy of dataframe and remove the unused columns. And then, create the aggregation that break data in Week, Week Days and Timing (15min)."
      ]
    },
    {
      "cell_type": "code",
      "metadata": {
        "id": "2pSAbBSFirFz",
        "colab_type": "code",
        "colab": {}
      },
      "source": [
        "# Create a subset of data for printing purpose\n",
        "df_print = df_resampled.copy()\n",
        "df_print = df_print.drop(['Open', 'High', 'Low', 'Close', 'FirstBarOfWeek'], axis=1)\n",
        "df_print.dropna(inplace=True)\n",
        "\n",
        "# Group you data for week break, week days, and timing of your bar\n",
        "df_print = df_print.groupby(['WeekDay','Time']).sum()\n"
      ],
      "execution_count": 0,
      "outputs": []
    },
    {
      "cell_type": "code",
      "metadata": {
        "id": "qzHwXEzEr5KJ",
        "colab_type": "code",
        "colab": {}
      },
      "source": [
        "# Convert in flat by index reset and prepare x labels\n",
        "weekdays_dic ={0:'Sun', 1:'Mon', 2:'Tue',3:'Wed',4:'Thu',5:'Fri', 6:'Sat'}\n",
        "df_flat = df_print.reset_index()\n",
        "df_flat['WeekDayName'] = df_flat['WeekDay'].apply(lambda x: weekdays_dic[x] )\n",
        "df_flat['x'] = df_flat['WeekDayName'] + ' ' + (df_flat['Time'].astype(str))\n"
      ],
      "execution_count": 0,
      "outputs": []
    },
    {
      "cell_type": "markdown",
      "metadata": {
        "id": "AS8Fch2N2OCV",
        "colab_type": "text"
      },
      "source": [
        "## Start with printing"
      ]
    },
    {
      "cell_type": "markdown",
      "metadata": {
        "id": "ApKWeIB32c0w",
        "colab_type": "text"
      },
      "source": [
        "### Print the difference"
      ]
    },
    {
      "cell_type": "code",
      "metadata": {
        "id": "SirR5Nf16Ke3",
        "colab_type": "code",
        "outputId": "f269ec5f-07a2-4649-8228-e865ebdbc208",
        "colab": {
          "base_uri": "https://localhost:8080/",
          "height": 542
        }
      },
      "source": [
        "# Print the difference for aggregated data\n",
        "fig = go.Figure()\n",
        "\n",
        "fig.update_xaxes(\n",
        "    tickmode = 'array',\n",
        "    ticktext=df_flat['x'],\n",
        "    tickvals=df_flat.index,\n",
        "    showticklabels=False,\n",
        "    tickangle=90, \n",
        "    tickfont=dict(family='Rockwell', color='crimson', size=6),\n",
        "    \n",
        ")\n",
        "\n",
        "fig.update_layout(\n",
        "\n",
        "    title = \"Intraday Seasonal - Difference\",\n",
        "\n",
        ")\n",
        "\n",
        "fig.add_trace(go.Scatter(\n",
        "    y=df_flat['Diff'],\n",
        "    marker=dict(color=\"crimson\", size=1),\n",
        "    mode='lines',\n",
        "    name=\"Diff\",\n",
        "))\n",
        "\n",
        "fig.show()"
      ],
      "execution_count": 0,
      "outputs": [
        {
          "output_type": "display_data",
          "data": {
            "text/html": [
              "<html>\n",
              "<head><meta charset=\"utf-8\" /></head>\n",
              "<body>\n",
              "    <div>\n",
              "            <script src=\"https://cdnjs.cloudflare.com/ajax/libs/mathjax/2.7.5/MathJax.js?config=TeX-AMS-MML_SVG\"></script><script type=\"text/javascript\">if (window.MathJax) {MathJax.Hub.Config({SVG: {font: \"STIX-Web\"}});}</script>\n",
              "                <script type=\"text/javascript\">window.PlotlyConfig = {MathJaxConfig: 'local'};</script>\n",
              "        <script src=\"https://cdn.plot.ly/plotly-latest.min.js\"></script>    \n",
              "            <div id=\"e5f7d1eb-2475-42d9-a73e-baa055d1298d\" class=\"plotly-graph-div\" style=\"height:525px; width:100%;\"></div>\n",
              "            <script type=\"text/javascript\">\n",
              "                \n",
              "                    window.PLOTLYENV=window.PLOTLYENV || {};\n",
              "                    \n",
              "                if (document.getElementById(\"e5f7d1eb-2475-42d9-a73e-baa055d1298d\")) {\n",
              "                    Plotly.newPlot(\n",
              "                        'e5f7d1eb-2475-42d9-a73e-baa055d1298d',\n",
              "                        [{\"marker\": {\"color\": \"crimson\", \"size\": 1}, \"mode\": \"lines\", \"name\": \"Diff\", \"type\": \"scatter\", \"y\": [0.0, -1.9999999999961346, -12.099999999999909, 2.8999999999998636, 5.2999999999999545, -5.299999999999727, -34.30000000000064, 46.899999999999864, 0.7999999999992724, 17.400000000001228, -4.100000000000591, -3.599999999997408, -44.000000000001364, -16.5000000000025, 0.19999999999936335, 19.600000000002183, -25.2999999999995, -1.1999999999982265, -12.200000000001637, -33.50000000000159, 11.500000000001819, -33.40000000000168, 25.999999999999318, -17.999999999996817, 0.0, -28.499999999999545, 76.7000000000005, 3.600000000000364, 22.89999999999759, -9.500000000000227, 20.70000000000141, -20.5, -41.1000000000015, -10.099999999999682, -20.599999999997863, -81.60000000000014, -49.50000000000318, -6.900000000000091, -45.59999999999923, -42.20000000000232, -1.3999999999955435, -40.80000000000018, -2.599999999996953, 1.9999999999943157, 6.60000000000241, -87.60000000000173, -44.199999999999136, 20.100000000002638, 40.69999999999709, -35.30000000000064, 9.70000000000573, -22.30000000000223, 28.79999999999859, 20.800000000003138, -9.20000000000482, -31.299999999997, 31.99999999999909, 33.799999999999045, 6.60000000000241, -31.200000000003456, 34.200000000000955, 2.3000000000004093, 3.899999999999636, -69.69999999999845, 75.09999999999786, 14.400000000000546, 1.3000000000017735, -5.400000000000546, 13.599999999998317, 68.80000000000064, -3.0000000000009095, -34.09999999999991, -10.200000000000955, -36.89999999999782, 10.099999999997635, 35.30000000000223, -32.900000000000546, -25.69999999999868, -0.9000000000035016, 34.20000000000459, -13.400000000003729, -11.999999999998636, -27.100000000001273, -39.299999999997226, -3.9000000000023647, -19.80000000000132, 21.200000000002547, -21.79999999999609, 2.599999999995589, 4.500000000001819, 14.399999999998727, -1.4000000000003183, -3.1999999999964075, 3.899999999998272, 89.89999999999804, -9.700000000000728, 14.099999999999454, -25.49999999999727, 10.899999999996226, -17.699999999999363, -6.600000000000591, 48.400000000001455, 40.49999999999977, -32.19999999999777, -4.800000000000637, 35.39999999999736, -26.900000000001228, 17.100000000005366, -6.300000000000409, 26.69999999999868, 1.600000000001046, 36.99999999999727, -32.699999999997544, 18.499999999999545, -4.100000000001046, -8.699999999997317, -2.1999999999993634, 1.599999999995589, 2.0000000000020464, -11.199999999998226, 28.599999999999, 23.999999999998636, -6.799999999997908, 10.89999999999759, 26.200000000002774, 7.6999999999982265, 22.199999999999136, -12.200000000000045, 0.5, 10.899999999998727, 11.400000000001, -10.30000000000041, -0.7999999999976808, 3.8000000000013188, -36.40000000000191, 17.500000000000455, 38.499999999999545, -11.70000000000232, -6.6999999999982265, -39.70000000000027, 20.499999999998863, -7.499999999999773, 16.800000000000637, -21.800000000000182, 8.100000000000136, -41.1000000000015, -6.399999999997817, 11.100000000000364, -14.500000000001364, -24.299999999999727, -26.999999999998636, 5.9999999999990905, -54.399999999998954, -83.60000000000127, 31.999999999999773, -3.999999999998863, -49.200000000000045, -44.300000000000864, 57.19999999999868, 68.00000000000227, 23.599999999998545, 8.400000000001, -50.70000000000118, 15.900000000003047, 54.399999999998045, -74.30000000000132, 32.500000000002956, 16.499999999998863, 14.499999999998636, 5.299999999998363, -53.19999999999732, -11.100000000000819, 19.999999999998636, -5.399999999995998, -44.10000000000309, 50.300000000002, -35.40000000000032, -14.000000000001592, 4.4000000000010004, -32.699999999998, 7.399999999997817, 8.599999999999227, 16.600000000001046, -3.3999999999991815, 11.2000000000005, 3.000000000000682, -6.100000000002183, -8.899999999999409, 113.79999999999768, -3.9999999999968168, 8.099999999996498, -34.29999999999973, 33.000000000002274, -16.099999999998317, 21.399999999997817, 11.200000000002092, -32.70000000000164, 19.30000000000132, 26.200000000000045, 45.99999999999841, 11.699999999999363, -9.700000000002092, 14.400000000002365, 29.499999999998636, 5.800000000002001, 28.89999999999918, 6.999999999997044, -2.599999999994452, -24.1000000000015, -48.200000000001864, 28.10000000000423, -7.300000000007003, -2.3999999999950887, -25.799999999999727, -4.900000000001455, 35.70000000000118, -22.000000000001364, 8.399999999998727, 50.000000000002956, -21.90000000000282, -13.699999999999818, 27.7000000000005, -24.09999999999718, -5.500000000003411, 9.599999999999682, 35.10000000000241, -9.800000000001546, -4.599999999997408, 17.699999999999363, -12.5, -47.699999999998454, 0.5000000000009095, -0.7000000000068667, -72.89999999999691, -34.799999999999955, 5.000000000002046, 12.299999999997453, 14.799999999999045, -0.7999999999992724, -31.80000000000041, -12.599999999996953, 28.899999999997135, 33.09999999999923, -13.099999999998545, 11.199999999999363, 37.10000000000082, 24.400000000001683, -29.499999999999545, -35.30000000000132, -65.49999999999841, 2.6999999999986812, -121.79999999999927, -82.90000000000009, -37.60000000000355, -64.19999999999936, -88.09999999999695, 9.400000000000091, 1.8999999999962256, 79.90000000000282, -4.999999999999545, -38.99999999999977, -30.000000000002046, -2.8999999999998636, 35.00000000000114, 6.800000000001091, 19.799999999997453, -9.299999999996999, -18.900000000002365, -9.300000000002683, -54.399999999993724, -21.500000000003865, 50.700000000002774, 0.09999999999809006, -91.10000000000059, 14.500000000000682, 0.49999999999704414, 45.60000000000082, 21.199999999998454, -1.0999999999969532, 1.8999999999994088, -9.800000000000637, 21.09999999999968, 56.10000000000218, 9.200000000000045, 36.199999999998454, -21.200000000000045, -27.200000000001182, 9.300000000001774, 18.299999999998818, -14.100000000001046, 16.900000000001228, -12.399999999997817, -34.79999999999927, 20.199999999995725, 44.40000000000305, 19.799999999999045, -0.39999999999668034, 35.39999999999486, 28.70000000000323, 22.099999999997863, -12.799999999997453, -7.400000000003274, 16.20000000000141, -9.899999999998272, 31.599999999995134, 5.600000000005139, -16.30000000000041, -19.000000000000682, 5.100000000001955, 0.49999999999795364, -2.0000000000022737, -7.799999999999727, 17.900000000002137, 26.199999999999818, -48.70000000000209, -8.699999999997772, -50.69999999999891, -48.90000000000214, 1.2000000000007276, 28.200000000002092, 12.600000000000591, 38.6999999999955, -1.3999999999980446, -57.399999999998954, 29.299999999999045, 3.600000000000591, -31.700000000000045, -73.40000000000146, -62.30000000000018, 1.9000000000041837, -42.30000000000314, 39.200000000000955, 4.500000000003183, 13.09999999999286, -6.9999999999972715, 13.899999999998954, 2.100000000000591, 4.500000000001592, 17.19999999999891, -28.40000000000191, -97.39999999999759, 7.8000000000017735, -20.600000000002865, -65.69999999999982, -122.00000000000341, -20.699999999992542, 109.59999999999786, 5.900000000000546, -24.20000000000232, 23.499999999999773, -8.099999999996953, 43.49999999999727, -46.80000000000041, 92.49999999999955, -7.6999999999982265, -39.000000000001364, -21.099999999999227, 69.59999999999991, -6.599999999999454, 59.39999999999782, -30.9999999999975, -28.10000000000082, -4.800000000001546, 23.20000000000232, 18.500000000001364, -39.700000000000955, 11.499999999997954, -25.199999999996635, 10.799999999999045, -14.400000000001683, 12.300000000001546, -1.1000000000021828, -4.6000000000026375, 4.60000000000332, -18.49999999999727, -4.400000000003956, 118.70000000000164, -6.400000000001228, -40.39999999999668, 2.5999999999996817, -29.000000000002046, 25.099999999997408, 3.3000000000035925, -4.50000000000432, -18.09999999999809, 14.400000000002592, -5.999999999999773, -7.8000000000017735, 49.79999999999836, 30.40000000000373, -9.199999999999363, 27.199999999996407, 11.200000000002547, 12.7999999999995, -2.700000000002774, 1.90000000000191, 32.800000000005184, 37.19999999999345, 15.100000000000819, -23.09999999999627, -18.30000000000291, -11.900000000005093, 39.800000000005184, -5.099999999999909, -2.6999999999975444, 35.99999999999727, -0.40000000000077307, 73.99999999999977, -30.299999999999045, 12.400000000000546, -94.60000000000105, 16.800000000001546, -43.50000000000114, 35.30000000000018, -5.000000000000455, -27.599999999999227, -22.200000000000273, -11.299999999999727, -45.50000000000068, 15.200000000002547, -83.90000000000441, -54.599999999998545, 50.30000000000109, 39.19999999999868, 18.70000000000232, 15.499999999998636, 16.899999999998954, -4.7999999999999545, 46.60000000000241, 3.2999999999994998, -36.10000000000127, -28.900000000000546, -51.19999999999982, -19.499999999999318, 15.700000000000955, 39.59999999999991, 57.99999999999977, -5.899999999999409, -13.500000000000227, -75.29999999999973, 202.00000000000045, 70.49999999999977, 20.99999999999659, -40.99999999999682, 72.50000000000114, -3.000000000002956, -17.499999999997044, -32.70000000000255, -6.899999999997135, -0.3000000000017735, 3.299999999999727, -5.499999999998181, -12.900000000004411, 31.300000000000864, 24.100000000002183, 34.19999999999732, 12.100000000002638, 29.200000000000728, -5.399999999999409, 25.19999999999891, 64.09999999999832, 33.99999999999886, 49.400000000001, 53.29999999999973, 32.500000000002046, 61.29999999999677, 46.60000000000173, 28.700000000001637, 50.999999999997954, 7.1000000000008185]}],\n",
              "                        {\"template\": {\"data\": {\"bar\": [{\"error_x\": {\"color\": \"#2a3f5f\"}, \"error_y\": {\"color\": \"#2a3f5f\"}, \"marker\": {\"line\": {\"color\": \"#E5ECF6\", \"width\": 0.5}}, \"type\": \"bar\"}], \"barpolar\": [{\"marker\": {\"line\": {\"color\": \"#E5ECF6\", \"width\": 0.5}}, \"type\": \"barpolar\"}], \"carpet\": [{\"aaxis\": {\"endlinecolor\": \"#2a3f5f\", \"gridcolor\": \"white\", \"linecolor\": \"white\", \"minorgridcolor\": \"white\", \"startlinecolor\": \"#2a3f5f\"}, \"baxis\": {\"endlinecolor\": \"#2a3f5f\", \"gridcolor\": \"white\", \"linecolor\": \"white\", \"minorgridcolor\": \"white\", \"startlinecolor\": \"#2a3f5f\"}, \"type\": \"carpet\"}], \"choropleth\": [{\"colorbar\": {\"outlinewidth\": 0, \"ticks\": \"\"}, \"type\": \"choropleth\"}], \"contour\": [{\"colorbar\": {\"outlinewidth\": 0, \"ticks\": \"\"}, \"colorscale\": [[0.0, \"#0d0887\"], [0.1111111111111111, \"#46039f\"], [0.2222222222222222, \"#7201a8\"], [0.3333333333333333, \"#9c179e\"], [0.4444444444444444, \"#bd3786\"], [0.5555555555555556, \"#d8576b\"], [0.6666666666666666, \"#ed7953\"], [0.7777777777777778, \"#fb9f3a\"], [0.8888888888888888, \"#fdca26\"], [1.0, \"#f0f921\"]], \"type\": \"contour\"}], \"contourcarpet\": [{\"colorbar\": {\"outlinewidth\": 0, \"ticks\": \"\"}, \"type\": \"contourcarpet\"}], \"heatmap\": [{\"colorbar\": {\"outlinewidth\": 0, \"ticks\": \"\"}, \"colorscale\": [[0.0, \"#0d0887\"], [0.1111111111111111, \"#46039f\"], [0.2222222222222222, \"#7201a8\"], [0.3333333333333333, \"#9c179e\"], [0.4444444444444444, \"#bd3786\"], [0.5555555555555556, \"#d8576b\"], [0.6666666666666666, \"#ed7953\"], [0.7777777777777778, \"#fb9f3a\"], [0.8888888888888888, \"#fdca26\"], [1.0, \"#f0f921\"]], \"type\": \"heatmap\"}], \"heatmapgl\": [{\"colorbar\": {\"outlinewidth\": 0, \"ticks\": \"\"}, \"colorscale\": [[0.0, \"#0d0887\"], [0.1111111111111111, \"#46039f\"], [0.2222222222222222, \"#7201a8\"], [0.3333333333333333, \"#9c179e\"], [0.4444444444444444, \"#bd3786\"], [0.5555555555555556, \"#d8576b\"], [0.6666666666666666, \"#ed7953\"], [0.7777777777777778, \"#fb9f3a\"], [0.8888888888888888, \"#fdca26\"], [1.0, \"#f0f921\"]], \"type\": \"heatmapgl\"}], \"histogram\": [{\"marker\": {\"colorbar\": {\"outlinewidth\": 0, \"ticks\": \"\"}}, \"type\": \"histogram\"}], \"histogram2d\": [{\"colorbar\": {\"outlinewidth\": 0, \"ticks\": \"\"}, \"colorscale\": [[0.0, \"#0d0887\"], [0.1111111111111111, \"#46039f\"], [0.2222222222222222, \"#7201a8\"], [0.3333333333333333, \"#9c179e\"], [0.4444444444444444, \"#bd3786\"], [0.5555555555555556, \"#d8576b\"], [0.6666666666666666, \"#ed7953\"], [0.7777777777777778, \"#fb9f3a\"], [0.8888888888888888, \"#fdca26\"], [1.0, \"#f0f921\"]], \"type\": \"histogram2d\"}], \"histogram2dcontour\": [{\"colorbar\": {\"outlinewidth\": 0, \"ticks\": \"\"}, \"colorscale\": [[0.0, \"#0d0887\"], [0.1111111111111111, \"#46039f\"], [0.2222222222222222, \"#7201a8\"], [0.3333333333333333, \"#9c179e\"], [0.4444444444444444, \"#bd3786\"], [0.5555555555555556, \"#d8576b\"], [0.6666666666666666, \"#ed7953\"], [0.7777777777777778, \"#fb9f3a\"], [0.8888888888888888, \"#fdca26\"], [1.0, \"#f0f921\"]], \"type\": \"histogram2dcontour\"}], \"mesh3d\": [{\"colorbar\": {\"outlinewidth\": 0, \"ticks\": \"\"}, \"type\": \"mesh3d\"}], \"parcoords\": [{\"line\": {\"colorbar\": {\"outlinewidth\": 0, \"ticks\": \"\"}}, \"type\": \"parcoords\"}], \"scatter\": [{\"marker\": {\"colorbar\": {\"outlinewidth\": 0, \"ticks\": \"\"}}, \"type\": \"scatter\"}], \"scatter3d\": [{\"line\": {\"colorbar\": {\"outlinewidth\": 0, \"ticks\": \"\"}}, \"marker\": {\"colorbar\": {\"outlinewidth\": 0, \"ticks\": \"\"}}, \"type\": \"scatter3d\"}], \"scattercarpet\": [{\"marker\": {\"colorbar\": {\"outlinewidth\": 0, \"ticks\": \"\"}}, \"type\": \"scattercarpet\"}], \"scattergeo\": [{\"marker\": {\"colorbar\": {\"outlinewidth\": 0, \"ticks\": \"\"}}, \"type\": \"scattergeo\"}], \"scattergl\": [{\"marker\": {\"colorbar\": {\"outlinewidth\": 0, \"ticks\": \"\"}}, \"type\": \"scattergl\"}], \"scattermapbox\": [{\"marker\": {\"colorbar\": {\"outlinewidth\": 0, \"ticks\": \"\"}}, \"type\": \"scattermapbox\"}], \"scatterpolar\": [{\"marker\": {\"colorbar\": {\"outlinewidth\": 0, \"ticks\": \"\"}}, \"type\": \"scatterpolar\"}], \"scatterpolargl\": [{\"marker\": {\"colorbar\": {\"outlinewidth\": 0, \"ticks\": \"\"}}, \"type\": \"scatterpolargl\"}], \"scatterternary\": [{\"marker\": {\"colorbar\": {\"outlinewidth\": 0, \"ticks\": \"\"}}, \"type\": \"scatterternary\"}], \"surface\": [{\"colorbar\": {\"outlinewidth\": 0, \"ticks\": \"\"}, \"colorscale\": [[0.0, \"#0d0887\"], [0.1111111111111111, \"#46039f\"], [0.2222222222222222, \"#7201a8\"], [0.3333333333333333, \"#9c179e\"], [0.4444444444444444, \"#bd3786\"], [0.5555555555555556, \"#d8576b\"], [0.6666666666666666, \"#ed7953\"], [0.7777777777777778, \"#fb9f3a\"], [0.8888888888888888, \"#fdca26\"], [1.0, \"#f0f921\"]], \"type\": \"surface\"}], \"table\": [{\"cells\": {\"fill\": {\"color\": \"#EBF0F8\"}, \"line\": {\"color\": \"white\"}}, \"header\": {\"fill\": {\"color\": \"#C8D4E3\"}, \"line\": {\"color\": \"white\"}}, \"type\": \"table\"}]}, \"layout\": {\"annotationdefaults\": {\"arrowcolor\": \"#2a3f5f\", \"arrowhead\": 0, \"arrowwidth\": 1}, \"colorscale\": {\"diverging\": [[0, \"#8e0152\"], [0.1, \"#c51b7d\"], [0.2, \"#de77ae\"], [0.3, \"#f1b6da\"], [0.4, \"#fde0ef\"], [0.5, \"#f7f7f7\"], [0.6, \"#e6f5d0\"], [0.7, \"#b8e186\"], [0.8, \"#7fbc41\"], [0.9, \"#4d9221\"], [1, \"#276419\"]], \"sequential\": [[0.0, \"#0d0887\"], [0.1111111111111111, \"#46039f\"], [0.2222222222222222, \"#7201a8\"], [0.3333333333333333, \"#9c179e\"], [0.4444444444444444, \"#bd3786\"], [0.5555555555555556, \"#d8576b\"], [0.6666666666666666, \"#ed7953\"], [0.7777777777777778, \"#fb9f3a\"], [0.8888888888888888, \"#fdca26\"], [1.0, \"#f0f921\"]], \"sequentialminus\": [[0.0, \"#0d0887\"], [0.1111111111111111, \"#46039f\"], [0.2222222222222222, \"#7201a8\"], [0.3333333333333333, \"#9c179e\"], [0.4444444444444444, \"#bd3786\"], [0.5555555555555556, \"#d8576b\"], [0.6666666666666666, \"#ed7953\"], [0.7777777777777778, \"#fb9f3a\"], [0.8888888888888888, \"#fdca26\"], [1.0, \"#f0f921\"]]}, \"colorway\": [\"#636efa\", \"#EF553B\", \"#00cc96\", \"#ab63fa\", \"#FFA15A\", \"#19d3f3\", \"#FF6692\", \"#B6E880\", \"#FF97FF\", \"#FECB52\"], \"font\": {\"color\": \"#2a3f5f\"}, \"geo\": {\"bgcolor\": \"white\", \"lakecolor\": \"white\", \"landcolor\": \"#E5ECF6\", \"showlakes\": true, \"showland\": true, \"subunitcolor\": \"white\"}, \"hoverlabel\": {\"align\": \"left\"}, \"hovermode\": \"closest\", \"mapbox\": {\"style\": \"light\"}, \"paper_bgcolor\": \"white\", \"plot_bgcolor\": \"#E5ECF6\", \"polar\": {\"angularaxis\": {\"gridcolor\": \"white\", \"linecolor\": \"white\", \"ticks\": \"\"}, \"bgcolor\": \"#E5ECF6\", \"radialaxis\": {\"gridcolor\": \"white\", \"linecolor\": \"white\", \"ticks\": \"\"}}, \"scene\": {\"xaxis\": {\"backgroundcolor\": \"#E5ECF6\", \"gridcolor\": \"white\", \"gridwidth\": 2, \"linecolor\": \"white\", \"showbackground\": true, \"ticks\": \"\", \"zerolinecolor\": \"white\"}, \"yaxis\": {\"backgroundcolor\": \"#E5ECF6\", \"gridcolor\": \"white\", \"gridwidth\": 2, \"linecolor\": \"white\", \"showbackground\": true, \"ticks\": \"\", \"zerolinecolor\": \"white\"}, \"zaxis\": {\"backgroundcolor\": \"#E5ECF6\", \"gridcolor\": \"white\", \"gridwidth\": 2, \"linecolor\": \"white\", \"showbackground\": true, \"ticks\": \"\", \"zerolinecolor\": \"white\"}}, \"shapedefaults\": {\"line\": {\"color\": \"#2a3f5f\"}}, \"ternary\": {\"aaxis\": {\"gridcolor\": \"white\", \"linecolor\": \"white\", \"ticks\": \"\"}, \"baxis\": {\"gridcolor\": \"white\", \"linecolor\": \"white\", \"ticks\": \"\"}, \"bgcolor\": \"#E5ECF6\", \"caxis\": {\"gridcolor\": \"white\", \"linecolor\": \"white\", \"ticks\": \"\"}}, \"title\": {\"x\": 0.05}, \"xaxis\": {\"automargin\": true, \"gridcolor\": \"white\", \"linecolor\": \"white\", \"ticks\": \"\", \"zerolinecolor\": \"white\", \"zerolinewidth\": 2}, \"yaxis\": {\"automargin\": true, \"gridcolor\": \"white\", \"linecolor\": \"white\", \"ticks\": \"\", \"zerolinecolor\": \"white\", \"zerolinewidth\": 2}}}, \"title\": {\"text\": \"Intraday Seasonal - Difference\"}, \"xaxis\": {\"showticklabels\": false, \"tickangle\": 90, \"tickfont\": {\"color\": \"crimson\", \"family\": \"Rockwell\", \"size\": 6}, \"tickmode\": \"array\", \"ticktext\": [\"Sun 18:00:00\", \"Sun 18:15:00\", \"Sun 18:30:00\", \"Sun 18:45:00\", \"Sun 19:00:00\", \"Sun 19:15:00\", \"Sun 19:30:00\", \"Sun 19:45:00\", \"Sun 20:00:00\", \"Sun 20:15:00\", \"Sun 20:30:00\", \"Sun 20:45:00\", \"Sun 21:00:00\", \"Sun 21:15:00\", \"Sun 21:30:00\", \"Sun 21:45:00\", \"Sun 22:00:00\", \"Sun 22:15:00\", \"Sun 22:30:00\", \"Sun 22:45:00\", \"Sun 23:00:00\", \"Sun 23:15:00\", \"Sun 23:30:00\", \"Sun 23:45:00\", \"Mon 00:00:00\", \"Mon 00:15:00\", \"Mon 00:30:00\", \"Mon 00:45:00\", \"Mon 01:00:00\", \"Mon 01:15:00\", \"Mon 01:30:00\", \"Mon 01:45:00\", \"Mon 02:00:00\", \"Mon 02:15:00\", \"Mon 02:30:00\", \"Mon 02:45:00\", \"Mon 03:00:00\", \"Mon 03:15:00\", \"Mon 03:30:00\", \"Mon 03:45:00\", \"Mon 04:00:00\", \"Mon 04:15:00\", \"Mon 04:30:00\", \"Mon 04:45:00\", \"Mon 05:00:00\", \"Mon 05:15:00\", \"Mon 05:30:00\", \"Mon 05:45:00\", \"Mon 06:00:00\", \"Mon 06:15:00\", \"Mon 06:30:00\", \"Mon 06:45:00\", \"Mon 07:00:00\", \"Mon 07:15:00\", \"Mon 07:30:00\", \"Mon 07:45:00\", \"Mon 08:00:00\", \"Mon 08:15:00\", \"Mon 08:30:00\", \"Mon 08:45:00\", \"Mon 09:00:00\", \"Mon 09:15:00\", \"Mon 09:30:00\", \"Mon 09:45:00\", \"Mon 10:00:00\", \"Mon 10:15:00\", \"Mon 10:30:00\", \"Mon 10:45:00\", \"Mon 11:00:00\", \"Mon 11:15:00\", \"Mon 11:30:00\", \"Mon 11:45:00\", \"Mon 12:00:00\", \"Mon 12:15:00\", \"Mon 12:30:00\", \"Mon 12:45:00\", \"Mon 13:00:00\", \"Mon 13:15:00\", \"Mon 13:30:00\", \"Mon 13:45:00\", \"Mon 14:00:00\", \"Mon 14:15:00\", \"Mon 14:30:00\", \"Mon 14:45:00\", \"Mon 15:00:00\", \"Mon 15:15:00\", \"Mon 15:30:00\", \"Mon 15:45:00\", \"Mon 16:00:00\", \"Mon 16:15:00\", \"Mon 16:30:00\", \"Mon 16:45:00\", \"Mon 17:00:00\", \"Mon 17:15:00\", \"Mon 18:00:00\", \"Mon 18:15:00\", \"Mon 18:30:00\", \"Mon 18:45:00\", \"Mon 19:00:00\", \"Mon 19:15:00\", \"Mon 19:30:00\", \"Mon 19:45:00\", \"Mon 20:00:00\", \"Mon 20:15:00\", \"Mon 20:30:00\", \"Mon 20:45:00\", \"Mon 21:00:00\", \"Mon 21:15:00\", \"Mon 21:30:00\", \"Mon 21:45:00\", \"Mon 22:00:00\", \"Mon 22:15:00\", \"Mon 22:30:00\", \"Mon 22:45:00\", \"Mon 23:00:00\", \"Mon 23:15:00\", \"Mon 23:30:00\", \"Mon 23:45:00\", \"Tue 00:00:00\", \"Tue 00:15:00\", \"Tue 00:30:00\", \"Tue 00:45:00\", \"Tue 01:00:00\", \"Tue 01:15:00\", \"Tue 01:30:00\", \"Tue 01:45:00\", \"Tue 02:00:00\", \"Tue 02:15:00\", \"Tue 02:30:00\", \"Tue 02:45:00\", \"Tue 03:00:00\", \"Tue 03:15:00\", \"Tue 03:30:00\", \"Tue 03:45:00\", \"Tue 04:00:00\", \"Tue 04:15:00\", \"Tue 04:30:00\", \"Tue 04:45:00\", \"Tue 05:00:00\", \"Tue 05:15:00\", \"Tue 05:30:00\", \"Tue 05:45:00\", \"Tue 06:00:00\", \"Tue 06:15:00\", \"Tue 06:30:00\", \"Tue 06:45:00\", \"Tue 07:00:00\", \"Tue 07:15:00\", \"Tue 07:30:00\", \"Tue 07:45:00\", \"Tue 08:00:00\", \"Tue 08:15:00\", \"Tue 08:30:00\", \"Tue 08:45:00\", \"Tue 09:00:00\", \"Tue 09:15:00\", \"Tue 09:30:00\", \"Tue 09:45:00\", \"Tue 10:00:00\", \"Tue 10:15:00\", \"Tue 10:30:00\", \"Tue 10:45:00\", \"Tue 11:00:00\", \"Tue 11:15:00\", \"Tue 11:30:00\", \"Tue 11:45:00\", \"Tue 12:00:00\", \"Tue 12:15:00\", \"Tue 12:30:00\", \"Tue 12:45:00\", \"Tue 13:00:00\", \"Tue 13:15:00\", \"Tue 13:30:00\", \"Tue 13:45:00\", \"Tue 14:00:00\", \"Tue 14:15:00\", \"Tue 14:30:00\", \"Tue 14:45:00\", \"Tue 15:00:00\", \"Tue 15:15:00\", \"Tue 15:30:00\", \"Tue 15:45:00\", \"Tue 16:00:00\", \"Tue 16:15:00\", \"Tue 16:30:00\", \"Tue 16:45:00\", \"Tue 17:00:00\", \"Tue 17:15:00\", \"Tue 18:00:00\", \"Tue 18:15:00\", \"Tue 18:30:00\", \"Tue 18:45:00\", \"Tue 19:00:00\", \"Tue 19:15:00\", \"Tue 19:30:00\", \"Tue 19:45:00\", \"Tue 20:00:00\", \"Tue 20:15:00\", \"Tue 20:30:00\", \"Tue 20:45:00\", \"Tue 21:00:00\", \"Tue 21:15:00\", \"Tue 21:30:00\", \"Tue 21:45:00\", \"Tue 22:00:00\", \"Tue 22:15:00\", \"Tue 22:30:00\", \"Tue 22:45:00\", \"Tue 23:00:00\", \"Tue 23:15:00\", \"Tue 23:30:00\", \"Tue 23:45:00\", \"Wed 00:00:00\", \"Wed 00:15:00\", \"Wed 00:30:00\", \"Wed 00:45:00\", \"Wed 01:00:00\", \"Wed 01:15:00\", \"Wed 01:30:00\", \"Wed 01:45:00\", \"Wed 02:00:00\", \"Wed 02:15:00\", \"Wed 02:30:00\", \"Wed 02:45:00\", \"Wed 03:00:00\", \"Wed 03:15:00\", \"Wed 03:30:00\", \"Wed 03:45:00\", \"Wed 04:00:00\", \"Wed 04:15:00\", \"Wed 04:30:00\", \"Wed 04:45:00\", \"Wed 05:00:00\", \"Wed 05:15:00\", \"Wed 05:30:00\", \"Wed 05:45:00\", \"Wed 06:00:00\", \"Wed 06:15:00\", \"Wed 06:30:00\", \"Wed 06:45:00\", \"Wed 07:00:00\", \"Wed 07:15:00\", \"Wed 07:30:00\", \"Wed 07:45:00\", \"Wed 08:00:00\", \"Wed 08:15:00\", \"Wed 08:30:00\", \"Wed 08:45:00\", \"Wed 09:00:00\", \"Wed 09:15:00\", \"Wed 09:30:00\", \"Wed 09:45:00\", \"Wed 10:00:00\", \"Wed 10:15:00\", \"Wed 10:30:00\", \"Wed 10:45:00\", \"Wed 11:00:00\", \"Wed 11:15:00\", \"Wed 11:30:00\", \"Wed 11:45:00\", \"Wed 12:00:00\", \"Wed 12:15:00\", \"Wed 12:30:00\", \"Wed 12:45:00\", \"Wed 13:00:00\", \"Wed 13:15:00\", \"Wed 13:30:00\", \"Wed 13:45:00\", \"Wed 14:00:00\", \"Wed 14:15:00\", \"Wed 14:30:00\", \"Wed 14:45:00\", \"Wed 15:00:00\", \"Wed 15:15:00\", \"Wed 15:30:00\", \"Wed 15:45:00\", \"Wed 16:00:00\", \"Wed 16:15:00\", \"Wed 16:30:00\", \"Wed 16:45:00\", \"Wed 17:00:00\", \"Wed 17:15:00\", \"Wed 18:00:00\", \"Wed 18:15:00\", \"Wed 18:30:00\", \"Wed 18:45:00\", \"Wed 19:00:00\", \"Wed 19:15:00\", \"Wed 19:30:00\", \"Wed 19:45:00\", \"Wed 20:00:00\", \"Wed 20:15:00\", \"Wed 20:30:00\", \"Wed 20:45:00\", \"Wed 21:00:00\", \"Wed 21:15:00\", \"Wed 21:30:00\", \"Wed 21:45:00\", \"Wed 22:00:00\", \"Wed 22:15:00\", \"Wed 22:30:00\", \"Wed 22:45:00\", \"Wed 23:00:00\", \"Wed 23:15:00\", \"Wed 23:30:00\", \"Wed 23:45:00\", \"Thu 00:00:00\", \"Thu 00:15:00\", \"Thu 00:30:00\", \"Thu 00:45:00\", \"Thu 01:00:00\", \"Thu 01:15:00\", \"Thu 01:30:00\", \"Thu 01:45:00\", \"Thu 02:00:00\", \"Thu 02:15:00\", \"Thu 02:30:00\", \"Thu 02:45:00\", \"Thu 03:00:00\", \"Thu 03:15:00\", \"Thu 03:30:00\", \"Thu 03:45:00\", \"Thu 04:00:00\", \"Thu 04:15:00\", \"Thu 04:30:00\", \"Thu 04:45:00\", \"Thu 05:00:00\", \"Thu 05:15:00\", \"Thu 05:30:00\", \"Thu 05:45:00\", \"Thu 06:00:00\", \"Thu 06:15:00\", \"Thu 06:30:00\", \"Thu 06:45:00\", \"Thu 07:00:00\", \"Thu 07:15:00\", \"Thu 07:30:00\", \"Thu 07:45:00\", \"Thu 08:00:00\", \"Thu 08:15:00\", \"Thu 08:30:00\", \"Thu 08:45:00\", \"Thu 09:00:00\", \"Thu 09:15:00\", \"Thu 09:30:00\", \"Thu 09:45:00\", \"Thu 10:00:00\", \"Thu 10:15:00\", \"Thu 10:30:00\", \"Thu 10:45:00\", \"Thu 11:00:00\", \"Thu 11:15:00\", \"Thu 11:30:00\", \"Thu 11:45:00\", \"Thu 12:00:00\", \"Thu 12:15:00\", \"Thu 12:30:00\", \"Thu 12:45:00\", \"Thu 13:00:00\", \"Thu 13:15:00\", \"Thu 13:30:00\", \"Thu 13:45:00\", \"Thu 14:00:00\", \"Thu 14:15:00\", \"Thu 14:30:00\", \"Thu 14:45:00\", \"Thu 15:00:00\", \"Thu 15:15:00\", \"Thu 15:30:00\", \"Thu 15:45:00\", \"Thu 16:00:00\", \"Thu 16:15:00\", \"Thu 16:30:00\", \"Thu 16:45:00\", \"Thu 17:00:00\", \"Thu 17:15:00\", \"Thu 18:00:00\", \"Thu 18:15:00\", \"Thu 18:30:00\", \"Thu 18:45:00\", \"Thu 19:00:00\", \"Thu 19:15:00\", \"Thu 19:30:00\", \"Thu 19:45:00\", \"Thu 20:00:00\", \"Thu 20:15:00\", \"Thu 20:30:00\", \"Thu 20:45:00\", \"Thu 21:00:00\", \"Thu 21:15:00\", \"Thu 21:30:00\", \"Thu 21:45:00\", \"Thu 22:00:00\", \"Thu 22:15:00\", \"Thu 22:30:00\", \"Thu 22:45:00\", \"Thu 23:00:00\", \"Thu 23:15:00\", \"Thu 23:30:00\", \"Thu 23:45:00\", \"Fri 00:00:00\", \"Fri 00:15:00\", \"Fri 00:30:00\", \"Fri 00:45:00\", \"Fri 01:00:00\", \"Fri 01:15:00\", \"Fri 01:30:00\", \"Fri 01:45:00\", \"Fri 02:00:00\", \"Fri 02:15:00\", \"Fri 02:30:00\", \"Fri 02:45:00\", \"Fri 03:00:00\", \"Fri 03:15:00\", \"Fri 03:30:00\", \"Fri 03:45:00\", \"Fri 04:00:00\", \"Fri 04:15:00\", \"Fri 04:30:00\", \"Fri 04:45:00\", \"Fri 05:00:00\", \"Fri 05:15:00\", \"Fri 05:30:00\", \"Fri 05:45:00\", \"Fri 06:00:00\", \"Fri 06:15:00\", \"Fri 06:30:00\", \"Fri 06:45:00\", \"Fri 07:00:00\", \"Fri 07:15:00\", \"Fri 07:30:00\", \"Fri 07:45:00\", \"Fri 08:00:00\", \"Fri 08:15:00\", \"Fri 08:30:00\", \"Fri 08:45:00\", \"Fri 09:00:00\", \"Fri 09:15:00\", \"Fri 09:30:00\", \"Fri 09:45:00\", \"Fri 10:00:00\", \"Fri 10:15:00\", \"Fri 10:30:00\", \"Fri 10:45:00\", \"Fri 11:00:00\", \"Fri 11:15:00\", \"Fri 11:30:00\", \"Fri 11:45:00\", \"Fri 12:00:00\", \"Fri 12:15:00\", \"Fri 12:30:00\", \"Fri 12:45:00\", \"Fri 13:00:00\", \"Fri 13:15:00\", \"Fri 13:30:00\", \"Fri 13:45:00\", \"Fri 14:00:00\", \"Fri 14:15:00\", \"Fri 14:30:00\", \"Fri 14:45:00\", \"Fri 15:00:00\", \"Fri 15:15:00\", \"Fri 15:30:00\", \"Fri 15:45:00\", \"Fri 16:00:00\", \"Fri 16:15:00\", \"Fri 16:30:00\", \"Fri 16:45:00\", \"Fri 17:00:00\", \"Fri 17:15:00\"], \"tickvals\": [0, 1, 2, 3, 4, 5, 6, 7, 8, 9, 10, 11, 12, 13, 14, 15, 16, 17, 18, 19, 20, 21, 22, 23, 24, 25, 26, 27, 28, 29, 30, 31, 32, 33, 34, 35, 36, 37, 38, 39, 40, 41, 42, 43, 44, 45, 46, 47, 48, 49, 50, 51, 52, 53, 54, 55, 56, 57, 58, 59, 60, 61, 62, 63, 64, 65, 66, 67, 68, 69, 70, 71, 72, 73, 74, 75, 76, 77, 78, 79, 80, 81, 82, 83, 84, 85, 86, 87, 88, 89, 90, 91, 92, 93, 94, 95, 96, 97, 98, 99, 100, 101, 102, 103, 104, 105, 106, 107, 108, 109, 110, 111, 112, 113, 114, 115, 116, 117, 118, 119, 120, 121, 122, 123, 124, 125, 126, 127, 128, 129, 130, 131, 132, 133, 134, 135, 136, 137, 138, 139, 140, 141, 142, 143, 144, 145, 146, 147, 148, 149, 150, 151, 152, 153, 154, 155, 156, 157, 158, 159, 160, 161, 162, 163, 164, 165, 166, 167, 168, 169, 170, 171, 172, 173, 174, 175, 176, 177, 178, 179, 180, 181, 182, 183, 184, 185, 186, 187, 188, 189, 190, 191, 192, 193, 194, 195, 196, 197, 198, 199, 200, 201, 202, 203, 204, 205, 206, 207, 208, 209, 210, 211, 212, 213, 214, 215, 216, 217, 218, 219, 220, 221, 222, 223, 224, 225, 226, 227, 228, 229, 230, 231, 232, 233, 234, 235, 236, 237, 238, 239, 240, 241, 242, 243, 244, 245, 246, 247, 248, 249, 250, 251, 252, 253, 254, 255, 256, 257, 258, 259, 260, 261, 262, 263, 264, 265, 266, 267, 268, 269, 270, 271, 272, 273, 274, 275, 276, 277, 278, 279, 280, 281, 282, 283, 284, 285, 286, 287, 288, 289, 290, 291, 292, 293, 294, 295, 296, 297, 298, 299, 300, 301, 302, 303, 304, 305, 306, 307, 308, 309, 310, 311, 312, 313, 314, 315, 316, 317, 318, 319, 320, 321, 322, 323, 324, 325, 326, 327, 328, 329, 330, 331, 332, 333, 334, 335, 336, 337, 338, 339, 340, 341, 342, 343, 344, 345, 346, 347, 348, 349, 350, 351, 352, 353, 354, 355, 356, 357, 358, 359, 360, 361, 362, 363, 364, 365, 366, 367, 368, 369, 370, 371, 372, 373, 374, 375, 376, 377, 378, 379, 380, 381, 382, 383, 384, 385, 386, 387, 388, 389, 390, 391, 392, 393, 394, 395, 396, 397, 398, 399, 400, 401, 402, 403, 404, 405, 406, 407, 408, 409, 410, 411, 412, 413, 414, 415, 416, 417, 418, 419, 420, 421, 422, 423, 424, 425, 426, 427, 428, 429, 430, 431, 432, 433, 434, 435, 436, 437, 438, 439, 440, 441, 442, 443, 444, 445, 446, 447, 448, 449, 450, 451, 452, 453, 454, 455, 456, 457, 458, 459, 460, 461, 462, 463, 464, 465, 466, 467, 468, 469]}},\n",
              "                        {\"responsive\": true}\n",
              "                    ).then(function(){\n",
              "                            \n",
              "var gd = document.getElementById('e5f7d1eb-2475-42d9-a73e-baa055d1298d');\n",
              "var x = new MutationObserver(function (mutations, observer) {{\n",
              "        var display = window.getComputedStyle(gd).display;\n",
              "        if (!display || display === 'none') {{\n",
              "            console.log([gd, 'removed!']);\n",
              "            Plotly.purge(gd);\n",
              "            observer.disconnect();\n",
              "        }}\n",
              "}});\n",
              "\n",
              "// Listen for the removal of the full notebook cells\n",
              "var notebookContainer = gd.closest('#notebook-container');\n",
              "if (notebookContainer) {{\n",
              "    x.observe(notebookContainer, {childList: true});\n",
              "}}\n",
              "\n",
              "// Listen for the clearing of the current output cell\n",
              "var outputEl = gd.closest('.output');\n",
              "if (outputEl) {{\n",
              "    x.observe(outputEl, {childList: true});\n",
              "}}\n",
              "\n",
              "                        })\n",
              "                };\n",
              "                \n",
              "            </script>\n",
              "        </div>\n",
              "</body>\n",
              "</html>"
            ]
          },
          "metadata": {
            "tags": []
          }
        }
      ]
    },
    {
      "cell_type": "markdown",
      "metadata": {
        "id": "oDkdV6XU2idn",
        "colab_type": "text"
      },
      "source": [
        "### Print the cumulative difference (Intraday Seasonal Chart)"
      ]
    },
    {
      "cell_type": "code",
      "metadata": {
        "id": "7300SA3sB9ul",
        "colab_type": "code",
        "outputId": "c2c6ffea-d01f-4e98-b6dd-3fdf30ecb834",
        "colab": {
          "base_uri": "https://localhost:8080/",
          "height": 542
        }
      },
      "source": [
        "# Print the cumulative difference for aggregated data\n",
        "fig = go.Figure()\n",
        "\n",
        "\n",
        "fig.update_xaxes(\n",
        "    tickmode = 'array',\n",
        "    ticktext=df_flat['x'],\n",
        "    tickvals=df_flat.index,\n",
        "    showticklabels=False,\n",
        "    tickangle=90, \n",
        "    tickfont=dict(family='Rockwell', color='crimson', size=6),\n",
        "    \n",
        ")\n",
        "\n",
        "fig.update_layout(\n",
        "\n",
        "    title = \"Intraday Seasonal - Cumulative Difference\",\n",
        "\n",
        ")\n",
        "\n",
        "fig.add_trace(go.Scatter(\n",
        "    x=df_flat.index,\n",
        "    y=df_flat['DiffCum'],\n",
        "    marker=dict(color=\"crimson\", size=1),\n",
        "    mode='lines',\n",
        "    name=\"DiffCum\",\n",
        "))\n",
        "\n",
        "fig.show()"
      ],
      "execution_count": 60,
      "outputs": [
        {
          "output_type": "display_data",
          "data": {
            "text/html": [
              "<html>\n",
              "<head><meta charset=\"utf-8\" /></head>\n",
              "<body>\n",
              "    <div>\n",
              "            <script src=\"https://cdnjs.cloudflare.com/ajax/libs/mathjax/2.7.5/MathJax.js?config=TeX-AMS-MML_SVG\"></script><script type=\"text/javascript\">if (window.MathJax) {MathJax.Hub.Config({SVG: {font: \"STIX-Web\"}});}</script>\n",
              "                <script type=\"text/javascript\">window.PlotlyConfig = {MathJaxConfig: 'local'};</script>\n",
              "        <script src=\"https://cdn.plot.ly/plotly-latest.min.js\"></script>    \n",
              "            <div id=\"66701afb-d6dd-4588-9d7c-dcff8b0d826b\" class=\"plotly-graph-div\" style=\"height:525px; width:100%;\"></div>\n",
              "            <script type=\"text/javascript\">\n",
              "                \n",
              "                    window.PLOTLYENV=window.PLOTLYENV || {};\n",
              "                    \n",
              "                if (document.getElementById(\"66701afb-d6dd-4588-9d7c-dcff8b0d826b\")) {\n",
              "                    Plotly.newPlot(\n",
              "                        '66701afb-d6dd-4588-9d7c-dcff8b0d826b',\n",
              "                        [{\"marker\": {\"color\": \"crimson\", \"size\": 1}, \"mode\": \"lines\", \"name\": \"DiffCum\", \"type\": \"scatter\", \"x\": [0, 1, 2, 3, 4, 5, 6, 7, 8, 9, 10, 11, 12, 13, 14, 15, 16, 17, 18, 19, 20, 21, 22, 23, 24, 25, 26, 27, 28, 29, 30, 31, 32, 33, 34, 35, 36, 37, 38, 39, 40, 41, 42, 43, 44, 45, 46, 47, 48, 49, 50, 51, 52, 53, 54, 55, 56, 57, 58, 59, 60, 61, 62, 63, 64, 65, 66, 67, 68, 69, 70, 71, 72, 73, 74, 75, 76, 77, 78, 79, 80, 81, 82, 83, 84, 85, 86, 87, 88, 89, 90, 91, 92, 93, 94, 95, 96, 97, 98, 99, 100, 101, 102, 103, 104, 105, 106, 107, 108, 109, 110, 111, 112, 113, 114, 115, 116, 117, 118, 119, 120, 121, 122, 123, 124, 125, 126, 127, 128, 129, 130, 131, 132, 133, 134, 135, 136, 137, 138, 139, 140, 141, 142, 143, 144, 145, 146, 147, 148, 149, 150, 151, 152, 153, 154, 155, 156, 157, 158, 159, 160, 161, 162, 163, 164, 165, 166, 167, 168, 169, 170, 171, 172, 173, 174, 175, 176, 177, 178, 179, 180, 181, 182, 183, 184, 185, 186, 187, 188, 189, 190, 191, 192, 193, 194, 195, 196, 197, 198, 199, 200, 201, 202, 203, 204, 205, 206, 207, 208, 209, 210, 211, 212, 213, 214, 215, 216, 217, 218, 219, 220, 221, 222, 223, 224, 225, 226, 227, 228, 229, 230, 231, 232, 233, 234, 235, 236, 237, 238, 239, 240, 241, 242, 243, 244, 245, 246, 247, 248, 249, 250, 251, 252, 253, 254, 255, 256, 257, 258, 259, 260, 261, 262, 263, 264, 265, 266, 267, 268, 269, 270, 271, 272, 273, 274, 275, 276, 277, 278, 279, 280, 281, 282, 283, 284, 285, 286, 287, 288, 289, 290, 291, 292, 293, 294, 295, 296, 297, 298, 299, 300, 301, 302, 303, 304, 305, 306, 307, 308, 309, 310, 311, 312, 313, 314, 315, 316, 317, 318, 319, 320, 321, 322, 323, 324, 325, 326, 327, 328, 329, 330, 331, 332, 333, 334, 335, 336, 337, 338, 339, 340, 341, 342, 343, 344, 345, 346, 347, 348, 349, 350, 351, 352, 353, 354, 355, 356, 357, 358, 359, 360, 361, 362, 363, 364, 365, 366, 367, 368, 369, 370, 371, 372, 373, 374, 375, 376, 377, 378, 379, 380, 381, 382, 383, 384, 385, 386, 387, 388, 389, 390, 391, 392, 393, 394, 395, 396, 397, 398, 399, 400, 401, 402, 403, 404, 405, 406, 407, 408, 409, 410, 411, 412, 413, 414, 415, 416, 417, 418, 419, 420, 421, 422, 423, 424, 425, 426, 427, 428, 429, 430, 431, 432, 433, 434, 435, 436, 437, 438, 439, 440, 441, 442, 443, 444, 445, 446, 447, 448, 449, 450, 451, 452, 453, 454, 455, 456, 457, 458, 459, 460, 461, 462, 463, 464, 465, 466, 467, 468, 469], \"y\": [204.89999999999668, 202.90000000000055, 191.00000000000068, 193.90000000000055, 199.2000000000005, 197.1000000000006, 162.79999999999995, 209.69999999999982, 210.4999999999991, 227.90000000000032, 223.79999999999973, 220.20000000000232, 176.20000000000095, 159.69999999999845, 159.89999999999782, 179.5, 151.10000000000036, 149.90000000000214, 137.7000000000005, 104.19999999999891, 115.70000000000073, 82.29999999999905, 108.29999999999836, 90.30000000000155, 45.59999999999832, 17.099999999998772, 93.79999999999927, 97.39999999999964, 120.29999999999723, 110.799999999997, 131.4999999999984, 110.99999999999841, 69.89999999999691, 59.799999999997226, 39.19999999999936, -42.40000000000077, -91.90000000000396, -98.80000000000405, -144.40000000000327, -186.6000000000056, -188.00000000000114, -228.80000000000132, -231.39999999999827, -229.40000000000396, -222.80000000000155, -310.4000000000033, -354.6000000000024, -334.4999999999998, -293.8000000000027, -329.1000000000033, -319.3999999999976, -341.6999999999998, -312.9000000000012, -292.0999999999981, -301.3000000000029, -332.5999999999999, -300.6000000000008, -266.8000000000018, -260.19999999999936, -291.4000000000028, -257.20000000000186, -254.90000000000146, -251.00000000000182, -320.7000000000003, -245.6000000000024, -231.20000000000186, -229.9000000000001, -235.30000000000064, -221.70000000000232, -152.90000000000168, -155.9000000000026, -190.0000000000025, -200.20000000000346, -237.10000000000127, -227.00000000000364, -191.7000000000014, -224.60000000000196, -248.30000000000086, -299.3000000000045, -265.0999999999999, -285.0000000000034, -297.00000000000205, -324.1000000000033, -363.40000000000055, -367.3000000000029, -387.10000000000423, -365.9000000000017, -387.6999999999978, -385.1000000000022, -380.60000000000036, -366.20000000000164, -367.60000000000196, -370.79999999999836, -261.0999999999999, -180.30000000000155, -190.00000000000227, -175.90000000000282, -201.4000000000001, -190.50000000000387, -208.20000000000323, -214.80000000000382, -166.40000000000236, -125.90000000000259, -158.10000000000036, -162.900000000001, -127.50000000000364, -154.40000000000487, -137.2999999999995, -143.5999999999999, -116.90000000000123, -115.30000000000018, -78.30000000000291, -111.00000000000045, -92.50000000000091, -96.60000000000196, -105.29999999999927, -107.49999999999864, -105.90000000000305, -103.900000000001, -115.09999999999923, -86.50000000000023, -62.50000000000159, -69.2999999999995, -58.40000000000191, -32.199999999999136, -24.50000000000091, -2.3000000000017735, -14.500000000001819, -14.000000000001819, -3.1000000000030923, 8.299999999997908, -2.000000000002501, -2.800000000000182, 1.0000000000011369, -35.40000000000077, -17.90000000000032, 20.599999999999227, 8.899999999996908, 2.1999999999986812, -37.50000000000159, -17.00000000000273, -24.5000000000025, -7.7000000000018645, -29.500000000002046, -21.40000000000191, -62.50000000000341, -68.90000000000123, -57.800000000000864, -72.30000000000223, -96.60000000000196, -123.60000000000059, -117.6000000000015, -172.00000000000045, -255.60000000000173, -223.60000000000196, -227.60000000000082, -276.80000000000086, -321.1000000000017, -263.90000000000305, -195.90000000000077, -172.30000000000223, -163.90000000000123, -214.6000000000024, -198.69999999999936, -144.30000000000132, -218.60000000000264, -186.09999999999968, -169.60000000000082, -155.10000000000218, -149.80000000000382, -203.00000000000114, -199.70000000000186, -179.70000000000323, -185.09999999999923, -233.6000000000024, -183.3000000000004, -218.70000000000073, -232.70000000000232, -228.30000000000132, -260.9999999999993, -253.6000000000015, -245.00000000000227, -228.40000000000123, -231.8000000000004, -220.5999999999999, -217.59999999999923, -223.7000000000014, -190.79999999999995, -94.4000000000035, -98.40000000000032, -90.30000000000382, -124.60000000000355, -91.60000000000127, -107.69999999999959, -86.30000000000177, -73.09999999999968, -105.80000000000132, -86.5, -60.299999999999955, -23.800000000001546, -12.100000000002183, -21.800000000004275, -7.40000000000191, 22.099999999996726, 27.899999999998727, 56.79999999999791, 63.79999999999495, 59.2000000000005, 35.099999999999, -13.100000000002865, 15.000000000001364, 7.699999999994361, 5.299999999999272, -20.500000000000455, -25.40000000000191, 10.299999999999272, -11.700000000002092, -3.300000000003365, 46.69999999999959, 24.79999999999677, 11.099999999996953, 38.79999999999745, 14.700000000000273, 9.199999999996862, 18.799999999996544, 53.899999999998954, 44.09999999999741, 39.5, 57.19999999999936, 44.69999999999936, -2.9999999999990905, -2.499999999998181, -3.2000000000050477, -76.10000000000196, -110.90000000000191, -105.89999999999986, -90.00000000000227, -75.20000000000323, -76.0000000000025, -107.80000000000291, -120.39999999999986, -91.50000000000273, -58.4000000000035, -71.50000000000205, -60.30000000000268, -23.200000000001864, 1.199999999999818, -28.299999999999727, -63.600000000001046, -129.09999999999945, -126.40000000000077, -248.20000000000005, -331.10000000000014, -368.7000000000037, -432.90000000000305, -521.0, -511.5999999999999, -509.7000000000037, -429.80000000000086, -434.8000000000004, -473.8000000000002, -503.8000000000022, -506.7000000000021, -471.70000000000095, -464.89999999999986, -450.90000000000236, -480.7999999999993, -499.70000000000164, -486.20000000000414, -540.5999999999979, -562.1000000000017, -511.39999999999895, -511.30000000000086, -602.4000000000015, -587.9000000000008, -587.4000000000037, -541.8000000000029, -520.6000000000045, -521.7000000000014, -519.800000000002, -529.6000000000026, -517.5000000000016, -414.1000000000008, -404.9000000000008, -368.7000000000023, -389.90000000000236, -417.10000000000355, -407.8000000000018, -389.50000000000296, -403.600000000004, -386.7000000000028, -399.1000000000006, -433.89999999999986, -413.70000000000414, -369.3000000000011, -349.50000000000205, -349.8999999999987, -314.50000000000387, -285.80000000000064, -263.7000000000028, -276.5000000000002, -283.9000000000035, -267.7000000000021, -277.60000000000036, -246.00000000000523, -240.4000000000001, -256.7000000000005, -275.7000000000012, -270.5999999999992, -270.1000000000013, -272.10000000000355, -279.9000000000033, -262.00000000000114, -235.80000000000132, -284.5000000000034, -293.2000000000012, -343.9000000000001, -392.8000000000022, -391.6000000000015, -363.3999999999994, -350.7999999999988, -312.1000000000033, -313.50000000000136, -370.9000000000003, -341.6000000000013, -338.0000000000007, -369.7000000000007, -443.1000000000022, -505.40000000000236, -503.4999999999982, -545.8000000000013, -506.60000000000036, -502.0999999999972, -489.0000000000043, -496.0000000000016, -482.10000000000264, -480.00000000000205, -475.50000000000045, -458.30000000000155, -486.70000000000346, -584.100000000001, -576.2999999999993, -596.9000000000021, -662.600000000002, -784.6000000000054, -805.2999999999979, -695.7, -689.7999999999995, -714.0000000000018, -690.500000000002, -698.599999999999, -655.1000000000017, -701.9000000000021, -609.4000000000026, -617.1000000000008, -656.1000000000022, -677.2000000000014, -607.6000000000015, -614.200000000001, -548.2000000000032, -589.1000000000008, -617.2000000000016, -629.8000000000031, -606.6000000000008, -588.0999999999995, -627.8000000000004, -616.3000000000025, -641.4999999999991, -630.7, -645.1000000000017, -632.8000000000002, -633.9000000000024, -638.500000000005, -633.9000000000017, -652.399999999999, -684.600000000002, -474.4000000000008, -480.800000000002, -521.1999999999987, -518.599999999999, -547.600000000001, -522.5000000000036, -519.2, -523.7000000000044, -541.8000000000025, -527.3999999999999, -533.3999999999996, -541.2000000000014, -491.40000000000305, -460.9999999999993, -470.1999999999987, -443.0000000000023, -431.7999999999997, -419.0000000000002, -421.700000000003, -419.8000000000011, -386.9999999999959, -349.80000000000246, -334.70000000000164, -357.7999999999979, -376.1000000000008, -398.6000000000058, -358.80000000000064, -363.90000000000055, -366.5999999999981, -330.6000000000008, -331.0000000000016, -257.0000000000018, -276.70000000000095, -264.3000000000004, -358.90000000000146, -342.0999999999999, -385.60000000000105, -350.30000000000086, -355.3000000000013, -382.90000000000055, -405.1000000000008, -416.40000000000055, -461.9000000000012, -446.6999999999987, -530.6000000000031, -585.2000000000016, -534.9000000000005, -495.70000000000186, -476.99999999999955, -461.5000000000009, -444.60000000000196, -449.4000000000019, -402.7999999999995, -399.5, -435.6000000000013, -464.5000000000018, -515.7000000000016, -535.200000000001, -519.5, -479.9000000000001, -421.9000000000003, -427.7999999999997, -441.29999999999995, -516.5999999999997, -314.5999999999992, -244.09999999999945, -223.10000000000286, -264.0999999999997, -191.59999999999854, -194.6000000000015, -212.09999999999854, -244.8000000000011, -251.69999999999823, -252.0, -248.70000000000027, -254.19999999999845, -267.10000000000286, -226.60000000000173, -202.49999999999955, -168.30000000000223, -84.19999999999959, -54.99999999999886, -60.39999999999827, -35.19999999999936, 28.899999999998954, 62.89999999999782, 112.29999999999882, 165.59999999999854, 198.1000000000006, 259.39999999999736, 250.29999999999927, 279.0000000000009, 329.99999999999886, -217.29999999999973]}],\n",
              "                        {\"template\": {\"data\": {\"bar\": [{\"error_x\": {\"color\": \"#2a3f5f\"}, \"error_y\": {\"color\": \"#2a3f5f\"}, \"marker\": {\"line\": {\"color\": \"#E5ECF6\", \"width\": 0.5}}, \"type\": \"bar\"}], \"barpolar\": [{\"marker\": {\"line\": {\"color\": \"#E5ECF6\", \"width\": 0.5}}, \"type\": \"barpolar\"}], \"carpet\": [{\"aaxis\": {\"endlinecolor\": \"#2a3f5f\", \"gridcolor\": \"white\", \"linecolor\": \"white\", \"minorgridcolor\": \"white\", \"startlinecolor\": \"#2a3f5f\"}, \"baxis\": {\"endlinecolor\": \"#2a3f5f\", \"gridcolor\": \"white\", \"linecolor\": \"white\", \"minorgridcolor\": \"white\", \"startlinecolor\": \"#2a3f5f\"}, \"type\": \"carpet\"}], \"choropleth\": [{\"colorbar\": {\"outlinewidth\": 0, \"ticks\": \"\"}, \"type\": \"choropleth\"}], \"contour\": [{\"colorbar\": {\"outlinewidth\": 0, \"ticks\": \"\"}, \"colorscale\": [[0.0, \"#0d0887\"], [0.1111111111111111, \"#46039f\"], [0.2222222222222222, \"#7201a8\"], [0.3333333333333333, \"#9c179e\"], [0.4444444444444444, \"#bd3786\"], [0.5555555555555556, \"#d8576b\"], [0.6666666666666666, \"#ed7953\"], [0.7777777777777778, \"#fb9f3a\"], [0.8888888888888888, \"#fdca26\"], [1.0, \"#f0f921\"]], \"type\": \"contour\"}], \"contourcarpet\": [{\"colorbar\": {\"outlinewidth\": 0, \"ticks\": \"\"}, \"type\": \"contourcarpet\"}], \"heatmap\": [{\"colorbar\": {\"outlinewidth\": 0, \"ticks\": \"\"}, \"colorscale\": [[0.0, \"#0d0887\"], [0.1111111111111111, \"#46039f\"], [0.2222222222222222, \"#7201a8\"], [0.3333333333333333, \"#9c179e\"], [0.4444444444444444, \"#bd3786\"], [0.5555555555555556, \"#d8576b\"], [0.6666666666666666, \"#ed7953\"], [0.7777777777777778, \"#fb9f3a\"], [0.8888888888888888, \"#fdca26\"], [1.0, \"#f0f921\"]], \"type\": \"heatmap\"}], \"heatmapgl\": [{\"colorbar\": {\"outlinewidth\": 0, \"ticks\": \"\"}, \"colorscale\": [[0.0, \"#0d0887\"], [0.1111111111111111, \"#46039f\"], [0.2222222222222222, \"#7201a8\"], [0.3333333333333333, \"#9c179e\"], [0.4444444444444444, \"#bd3786\"], [0.5555555555555556, \"#d8576b\"], [0.6666666666666666, \"#ed7953\"], [0.7777777777777778, \"#fb9f3a\"], [0.8888888888888888, \"#fdca26\"], [1.0, \"#f0f921\"]], \"type\": \"heatmapgl\"}], \"histogram\": [{\"marker\": {\"colorbar\": {\"outlinewidth\": 0, \"ticks\": \"\"}}, \"type\": \"histogram\"}], \"histogram2d\": [{\"colorbar\": {\"outlinewidth\": 0, \"ticks\": \"\"}, \"colorscale\": [[0.0, \"#0d0887\"], [0.1111111111111111, \"#46039f\"], [0.2222222222222222, \"#7201a8\"], [0.3333333333333333, \"#9c179e\"], [0.4444444444444444, \"#bd3786\"], [0.5555555555555556, \"#d8576b\"], [0.6666666666666666, \"#ed7953\"], [0.7777777777777778, \"#fb9f3a\"], [0.8888888888888888, \"#fdca26\"], [1.0, \"#f0f921\"]], \"type\": \"histogram2d\"}], \"histogram2dcontour\": [{\"colorbar\": {\"outlinewidth\": 0, \"ticks\": \"\"}, \"colorscale\": [[0.0, \"#0d0887\"], [0.1111111111111111, \"#46039f\"], [0.2222222222222222, \"#7201a8\"], [0.3333333333333333, \"#9c179e\"], [0.4444444444444444, \"#bd3786\"], [0.5555555555555556, \"#d8576b\"], [0.6666666666666666, \"#ed7953\"], [0.7777777777777778, \"#fb9f3a\"], [0.8888888888888888, \"#fdca26\"], [1.0, \"#f0f921\"]], \"type\": \"histogram2dcontour\"}], \"mesh3d\": [{\"colorbar\": {\"outlinewidth\": 0, \"ticks\": \"\"}, \"type\": \"mesh3d\"}], \"parcoords\": [{\"line\": {\"colorbar\": {\"outlinewidth\": 0, \"ticks\": \"\"}}, \"type\": \"parcoords\"}], \"scatter\": [{\"marker\": {\"colorbar\": {\"outlinewidth\": 0, \"ticks\": \"\"}}, \"type\": \"scatter\"}], \"scatter3d\": [{\"line\": {\"colorbar\": {\"outlinewidth\": 0, \"ticks\": \"\"}}, \"marker\": {\"colorbar\": {\"outlinewidth\": 0, \"ticks\": \"\"}}, \"type\": \"scatter3d\"}], \"scattercarpet\": [{\"marker\": {\"colorbar\": {\"outlinewidth\": 0, \"ticks\": \"\"}}, \"type\": \"scattercarpet\"}], \"scattergeo\": [{\"marker\": {\"colorbar\": {\"outlinewidth\": 0, \"ticks\": \"\"}}, \"type\": \"scattergeo\"}], \"scattergl\": [{\"marker\": {\"colorbar\": {\"outlinewidth\": 0, \"ticks\": \"\"}}, \"type\": \"scattergl\"}], \"scattermapbox\": [{\"marker\": {\"colorbar\": {\"outlinewidth\": 0, \"ticks\": \"\"}}, \"type\": \"scattermapbox\"}], \"scatterpolar\": [{\"marker\": {\"colorbar\": {\"outlinewidth\": 0, \"ticks\": \"\"}}, \"type\": \"scatterpolar\"}], \"scatterpolargl\": [{\"marker\": {\"colorbar\": {\"outlinewidth\": 0, \"ticks\": \"\"}}, \"type\": \"scatterpolargl\"}], \"scatterternary\": [{\"marker\": {\"colorbar\": {\"outlinewidth\": 0, \"ticks\": \"\"}}, \"type\": \"scatterternary\"}], \"surface\": [{\"colorbar\": {\"outlinewidth\": 0, \"ticks\": \"\"}, \"colorscale\": [[0.0, \"#0d0887\"], [0.1111111111111111, \"#46039f\"], [0.2222222222222222, \"#7201a8\"], [0.3333333333333333, \"#9c179e\"], [0.4444444444444444, \"#bd3786\"], [0.5555555555555556, \"#d8576b\"], [0.6666666666666666, \"#ed7953\"], [0.7777777777777778, \"#fb9f3a\"], [0.8888888888888888, \"#fdca26\"], [1.0, \"#f0f921\"]], \"type\": \"surface\"}], \"table\": [{\"cells\": {\"fill\": {\"color\": \"#EBF0F8\"}, \"line\": {\"color\": \"white\"}}, \"header\": {\"fill\": {\"color\": \"#C8D4E3\"}, \"line\": {\"color\": \"white\"}}, \"type\": \"table\"}]}, \"layout\": {\"annotationdefaults\": {\"arrowcolor\": \"#2a3f5f\", \"arrowhead\": 0, \"arrowwidth\": 1}, \"colorscale\": {\"diverging\": [[0, \"#8e0152\"], [0.1, \"#c51b7d\"], [0.2, \"#de77ae\"], [0.3, \"#f1b6da\"], [0.4, \"#fde0ef\"], [0.5, \"#f7f7f7\"], [0.6, \"#e6f5d0\"], [0.7, \"#b8e186\"], [0.8, \"#7fbc41\"], [0.9, \"#4d9221\"], [1, \"#276419\"]], \"sequential\": [[0.0, \"#0d0887\"], [0.1111111111111111, \"#46039f\"], [0.2222222222222222, \"#7201a8\"], [0.3333333333333333, \"#9c179e\"], [0.4444444444444444, \"#bd3786\"], [0.5555555555555556, \"#d8576b\"], [0.6666666666666666, \"#ed7953\"], [0.7777777777777778, \"#fb9f3a\"], [0.8888888888888888, \"#fdca26\"], [1.0, \"#f0f921\"]], \"sequentialminus\": [[0.0, \"#0d0887\"], [0.1111111111111111, \"#46039f\"], [0.2222222222222222, \"#7201a8\"], [0.3333333333333333, \"#9c179e\"], [0.4444444444444444, \"#bd3786\"], [0.5555555555555556, \"#d8576b\"], [0.6666666666666666, \"#ed7953\"], [0.7777777777777778, \"#fb9f3a\"], [0.8888888888888888, \"#fdca26\"], [1.0, \"#f0f921\"]]}, \"colorway\": [\"#636efa\", \"#EF553B\", \"#00cc96\", \"#ab63fa\", \"#FFA15A\", \"#19d3f3\", \"#FF6692\", \"#B6E880\", \"#FF97FF\", \"#FECB52\"], \"font\": {\"color\": \"#2a3f5f\"}, \"geo\": {\"bgcolor\": \"white\", \"lakecolor\": \"white\", \"landcolor\": \"#E5ECF6\", \"showlakes\": true, \"showland\": true, \"subunitcolor\": \"white\"}, \"hoverlabel\": {\"align\": \"left\"}, \"hovermode\": \"closest\", \"mapbox\": {\"style\": \"light\"}, \"paper_bgcolor\": \"white\", \"plot_bgcolor\": \"#E5ECF6\", \"polar\": {\"angularaxis\": {\"gridcolor\": \"white\", \"linecolor\": \"white\", \"ticks\": \"\"}, \"bgcolor\": \"#E5ECF6\", \"radialaxis\": {\"gridcolor\": \"white\", \"linecolor\": \"white\", \"ticks\": \"\"}}, \"scene\": {\"xaxis\": {\"backgroundcolor\": \"#E5ECF6\", \"gridcolor\": \"white\", \"gridwidth\": 2, \"linecolor\": \"white\", \"showbackground\": true, \"ticks\": \"\", \"zerolinecolor\": \"white\"}, \"yaxis\": {\"backgroundcolor\": \"#E5ECF6\", \"gridcolor\": \"white\", \"gridwidth\": 2, \"linecolor\": \"white\", \"showbackground\": true, \"ticks\": \"\", \"zerolinecolor\": \"white\"}, \"zaxis\": {\"backgroundcolor\": \"#E5ECF6\", \"gridcolor\": \"white\", \"gridwidth\": 2, \"linecolor\": \"white\", \"showbackground\": true, \"ticks\": \"\", \"zerolinecolor\": \"white\"}}, \"shapedefaults\": {\"line\": {\"color\": \"#2a3f5f\"}}, \"ternary\": {\"aaxis\": {\"gridcolor\": \"white\", \"linecolor\": \"white\", \"ticks\": \"\"}, \"baxis\": {\"gridcolor\": \"white\", \"linecolor\": \"white\", \"ticks\": \"\"}, \"bgcolor\": \"#E5ECF6\", \"caxis\": {\"gridcolor\": \"white\", \"linecolor\": \"white\", \"ticks\": \"\"}}, \"title\": {\"x\": 0.05}, \"xaxis\": {\"automargin\": true, \"gridcolor\": \"white\", \"linecolor\": \"white\", \"ticks\": \"\", \"zerolinecolor\": \"white\", \"zerolinewidth\": 2}, \"yaxis\": {\"automargin\": true, \"gridcolor\": \"white\", \"linecolor\": \"white\", \"ticks\": \"\", \"zerolinecolor\": \"white\", \"zerolinewidth\": 2}}}, \"title\": {\"text\": \"Intraday Seasonal - Cumulative Difference\"}, \"xaxis\": {\"showticklabels\": false, \"tickangle\": 90, \"tickfont\": {\"color\": \"crimson\", \"family\": \"Rockwell\", \"size\": 6}, \"tickmode\": \"array\", \"ticktext\": [\"Sun 18:00:00\", \"Sun 18:15:00\", \"Sun 18:30:00\", \"Sun 18:45:00\", \"Sun 19:00:00\", \"Sun 19:15:00\", \"Sun 19:30:00\", \"Sun 19:45:00\", \"Sun 20:00:00\", \"Sun 20:15:00\", \"Sun 20:30:00\", \"Sun 20:45:00\", \"Sun 21:00:00\", \"Sun 21:15:00\", \"Sun 21:30:00\", \"Sun 21:45:00\", \"Sun 22:00:00\", \"Sun 22:15:00\", \"Sun 22:30:00\", \"Sun 22:45:00\", \"Sun 23:00:00\", \"Sun 23:15:00\", \"Sun 23:30:00\", \"Sun 23:45:00\", \"Mon 00:00:00\", \"Mon 00:15:00\", \"Mon 00:30:00\", \"Mon 00:45:00\", \"Mon 01:00:00\", \"Mon 01:15:00\", \"Mon 01:30:00\", \"Mon 01:45:00\", \"Mon 02:00:00\", \"Mon 02:15:00\", \"Mon 02:30:00\", \"Mon 02:45:00\", \"Mon 03:00:00\", \"Mon 03:15:00\", \"Mon 03:30:00\", \"Mon 03:45:00\", \"Mon 04:00:00\", \"Mon 04:15:00\", \"Mon 04:30:00\", \"Mon 04:45:00\", \"Mon 05:00:00\", \"Mon 05:15:00\", \"Mon 05:30:00\", \"Mon 05:45:00\", \"Mon 06:00:00\", \"Mon 06:15:00\", \"Mon 06:30:00\", \"Mon 06:45:00\", \"Mon 07:00:00\", \"Mon 07:15:00\", \"Mon 07:30:00\", \"Mon 07:45:00\", \"Mon 08:00:00\", \"Mon 08:15:00\", \"Mon 08:30:00\", \"Mon 08:45:00\", \"Mon 09:00:00\", \"Mon 09:15:00\", \"Mon 09:30:00\", \"Mon 09:45:00\", \"Mon 10:00:00\", \"Mon 10:15:00\", \"Mon 10:30:00\", \"Mon 10:45:00\", \"Mon 11:00:00\", \"Mon 11:15:00\", \"Mon 11:30:00\", \"Mon 11:45:00\", \"Mon 12:00:00\", \"Mon 12:15:00\", \"Mon 12:30:00\", \"Mon 12:45:00\", \"Mon 13:00:00\", \"Mon 13:15:00\", \"Mon 13:30:00\", \"Mon 13:45:00\", \"Mon 14:00:00\", \"Mon 14:15:00\", \"Mon 14:30:00\", \"Mon 14:45:00\", \"Mon 15:00:00\", \"Mon 15:15:00\", \"Mon 15:30:00\", \"Mon 15:45:00\", \"Mon 16:00:00\", \"Mon 16:15:00\", \"Mon 16:30:00\", \"Mon 16:45:00\", \"Mon 17:00:00\", \"Mon 17:15:00\", \"Mon 18:00:00\", \"Mon 18:15:00\", \"Mon 18:30:00\", \"Mon 18:45:00\", \"Mon 19:00:00\", \"Mon 19:15:00\", \"Mon 19:30:00\", \"Mon 19:45:00\", \"Mon 20:00:00\", \"Mon 20:15:00\", \"Mon 20:30:00\", \"Mon 20:45:00\", \"Mon 21:00:00\", \"Mon 21:15:00\", \"Mon 21:30:00\", \"Mon 21:45:00\", \"Mon 22:00:00\", \"Mon 22:15:00\", \"Mon 22:30:00\", \"Mon 22:45:00\", \"Mon 23:00:00\", \"Mon 23:15:00\", \"Mon 23:30:00\", \"Mon 23:45:00\", \"Tue 00:00:00\", \"Tue 00:15:00\", \"Tue 00:30:00\", \"Tue 00:45:00\", \"Tue 01:00:00\", \"Tue 01:15:00\", \"Tue 01:30:00\", \"Tue 01:45:00\", \"Tue 02:00:00\", \"Tue 02:15:00\", \"Tue 02:30:00\", \"Tue 02:45:00\", \"Tue 03:00:00\", \"Tue 03:15:00\", \"Tue 03:30:00\", \"Tue 03:45:00\", \"Tue 04:00:00\", \"Tue 04:15:00\", \"Tue 04:30:00\", \"Tue 04:45:00\", \"Tue 05:00:00\", \"Tue 05:15:00\", \"Tue 05:30:00\", \"Tue 05:45:00\", \"Tue 06:00:00\", \"Tue 06:15:00\", \"Tue 06:30:00\", \"Tue 06:45:00\", \"Tue 07:00:00\", \"Tue 07:15:00\", \"Tue 07:30:00\", \"Tue 07:45:00\", \"Tue 08:00:00\", \"Tue 08:15:00\", \"Tue 08:30:00\", \"Tue 08:45:00\", \"Tue 09:00:00\", \"Tue 09:15:00\", \"Tue 09:30:00\", \"Tue 09:45:00\", \"Tue 10:00:00\", \"Tue 10:15:00\", \"Tue 10:30:00\", \"Tue 10:45:00\", \"Tue 11:00:00\", \"Tue 11:15:00\", \"Tue 11:30:00\", \"Tue 11:45:00\", \"Tue 12:00:00\", \"Tue 12:15:00\", \"Tue 12:30:00\", \"Tue 12:45:00\", \"Tue 13:00:00\", \"Tue 13:15:00\", \"Tue 13:30:00\", \"Tue 13:45:00\", \"Tue 14:00:00\", \"Tue 14:15:00\", \"Tue 14:30:00\", \"Tue 14:45:00\", \"Tue 15:00:00\", \"Tue 15:15:00\", \"Tue 15:30:00\", \"Tue 15:45:00\", \"Tue 16:00:00\", \"Tue 16:15:00\", \"Tue 16:30:00\", \"Tue 16:45:00\", \"Tue 17:00:00\", \"Tue 17:15:00\", \"Tue 18:00:00\", \"Tue 18:15:00\", \"Tue 18:30:00\", \"Tue 18:45:00\", \"Tue 19:00:00\", \"Tue 19:15:00\", \"Tue 19:30:00\", \"Tue 19:45:00\", \"Tue 20:00:00\", \"Tue 20:15:00\", \"Tue 20:30:00\", \"Tue 20:45:00\", \"Tue 21:00:00\", \"Tue 21:15:00\", \"Tue 21:30:00\", \"Tue 21:45:00\", \"Tue 22:00:00\", \"Tue 22:15:00\", \"Tue 22:30:00\", \"Tue 22:45:00\", \"Tue 23:00:00\", \"Tue 23:15:00\", \"Tue 23:30:00\", \"Tue 23:45:00\", \"Wed 00:00:00\", \"Wed 00:15:00\", \"Wed 00:30:00\", \"Wed 00:45:00\", \"Wed 01:00:00\", \"Wed 01:15:00\", \"Wed 01:30:00\", \"Wed 01:45:00\", \"Wed 02:00:00\", \"Wed 02:15:00\", \"Wed 02:30:00\", \"Wed 02:45:00\", \"Wed 03:00:00\", \"Wed 03:15:00\", \"Wed 03:30:00\", \"Wed 03:45:00\", \"Wed 04:00:00\", \"Wed 04:15:00\", \"Wed 04:30:00\", \"Wed 04:45:00\", \"Wed 05:00:00\", \"Wed 05:15:00\", \"Wed 05:30:00\", \"Wed 05:45:00\", \"Wed 06:00:00\", \"Wed 06:15:00\", \"Wed 06:30:00\", \"Wed 06:45:00\", \"Wed 07:00:00\", \"Wed 07:15:00\", \"Wed 07:30:00\", \"Wed 07:45:00\", \"Wed 08:00:00\", \"Wed 08:15:00\", \"Wed 08:30:00\", \"Wed 08:45:00\", \"Wed 09:00:00\", \"Wed 09:15:00\", \"Wed 09:30:00\", \"Wed 09:45:00\", \"Wed 10:00:00\", \"Wed 10:15:00\", \"Wed 10:30:00\", \"Wed 10:45:00\", \"Wed 11:00:00\", \"Wed 11:15:00\", \"Wed 11:30:00\", \"Wed 11:45:00\", \"Wed 12:00:00\", \"Wed 12:15:00\", \"Wed 12:30:00\", \"Wed 12:45:00\", \"Wed 13:00:00\", \"Wed 13:15:00\", \"Wed 13:30:00\", \"Wed 13:45:00\", \"Wed 14:00:00\", \"Wed 14:15:00\", \"Wed 14:30:00\", \"Wed 14:45:00\", \"Wed 15:00:00\", \"Wed 15:15:00\", \"Wed 15:30:00\", \"Wed 15:45:00\", \"Wed 16:00:00\", \"Wed 16:15:00\", \"Wed 16:30:00\", \"Wed 16:45:00\", \"Wed 17:00:00\", \"Wed 17:15:00\", \"Wed 18:00:00\", \"Wed 18:15:00\", \"Wed 18:30:00\", \"Wed 18:45:00\", \"Wed 19:00:00\", \"Wed 19:15:00\", \"Wed 19:30:00\", \"Wed 19:45:00\", \"Wed 20:00:00\", \"Wed 20:15:00\", \"Wed 20:30:00\", \"Wed 20:45:00\", \"Wed 21:00:00\", \"Wed 21:15:00\", \"Wed 21:30:00\", \"Wed 21:45:00\", \"Wed 22:00:00\", \"Wed 22:15:00\", \"Wed 22:30:00\", \"Wed 22:45:00\", \"Wed 23:00:00\", \"Wed 23:15:00\", \"Wed 23:30:00\", \"Wed 23:45:00\", \"Thu 00:00:00\", \"Thu 00:15:00\", \"Thu 00:30:00\", \"Thu 00:45:00\", \"Thu 01:00:00\", \"Thu 01:15:00\", \"Thu 01:30:00\", \"Thu 01:45:00\", \"Thu 02:00:00\", \"Thu 02:15:00\", \"Thu 02:30:00\", \"Thu 02:45:00\", \"Thu 03:00:00\", \"Thu 03:15:00\", \"Thu 03:30:00\", \"Thu 03:45:00\", \"Thu 04:00:00\", \"Thu 04:15:00\", \"Thu 04:30:00\", \"Thu 04:45:00\", \"Thu 05:00:00\", \"Thu 05:15:00\", \"Thu 05:30:00\", \"Thu 05:45:00\", \"Thu 06:00:00\", \"Thu 06:15:00\", \"Thu 06:30:00\", \"Thu 06:45:00\", \"Thu 07:00:00\", \"Thu 07:15:00\", \"Thu 07:30:00\", \"Thu 07:45:00\", \"Thu 08:00:00\", \"Thu 08:15:00\", \"Thu 08:30:00\", \"Thu 08:45:00\", \"Thu 09:00:00\", \"Thu 09:15:00\", \"Thu 09:30:00\", \"Thu 09:45:00\", \"Thu 10:00:00\", \"Thu 10:15:00\", \"Thu 10:30:00\", \"Thu 10:45:00\", \"Thu 11:00:00\", \"Thu 11:15:00\", \"Thu 11:30:00\", \"Thu 11:45:00\", \"Thu 12:00:00\", \"Thu 12:15:00\", \"Thu 12:30:00\", \"Thu 12:45:00\", \"Thu 13:00:00\", \"Thu 13:15:00\", \"Thu 13:30:00\", \"Thu 13:45:00\", \"Thu 14:00:00\", \"Thu 14:15:00\", \"Thu 14:30:00\", \"Thu 14:45:00\", \"Thu 15:00:00\", \"Thu 15:15:00\", \"Thu 15:30:00\", \"Thu 15:45:00\", \"Thu 16:00:00\", \"Thu 16:15:00\", \"Thu 16:30:00\", \"Thu 16:45:00\", \"Thu 17:00:00\", \"Thu 17:15:00\", \"Thu 18:00:00\", \"Thu 18:15:00\", \"Thu 18:30:00\", \"Thu 18:45:00\", \"Thu 19:00:00\", \"Thu 19:15:00\", \"Thu 19:30:00\", \"Thu 19:45:00\", \"Thu 20:00:00\", \"Thu 20:15:00\", \"Thu 20:30:00\", \"Thu 20:45:00\", \"Thu 21:00:00\", \"Thu 21:15:00\", \"Thu 21:30:00\", \"Thu 21:45:00\", \"Thu 22:00:00\", \"Thu 22:15:00\", \"Thu 22:30:00\", \"Thu 22:45:00\", \"Thu 23:00:00\", \"Thu 23:15:00\", \"Thu 23:30:00\", \"Thu 23:45:00\", \"Fri 00:00:00\", \"Fri 00:15:00\", \"Fri 00:30:00\", \"Fri 00:45:00\", \"Fri 01:00:00\", \"Fri 01:15:00\", \"Fri 01:30:00\", \"Fri 01:45:00\", \"Fri 02:00:00\", \"Fri 02:15:00\", \"Fri 02:30:00\", \"Fri 02:45:00\", \"Fri 03:00:00\", \"Fri 03:15:00\", \"Fri 03:30:00\", \"Fri 03:45:00\", \"Fri 04:00:00\", \"Fri 04:15:00\", \"Fri 04:30:00\", \"Fri 04:45:00\", \"Fri 05:00:00\", \"Fri 05:15:00\", \"Fri 05:30:00\", \"Fri 05:45:00\", \"Fri 06:00:00\", \"Fri 06:15:00\", \"Fri 06:30:00\", \"Fri 06:45:00\", \"Fri 07:00:00\", \"Fri 07:15:00\", \"Fri 07:30:00\", \"Fri 07:45:00\", \"Fri 08:00:00\", \"Fri 08:15:00\", \"Fri 08:30:00\", \"Fri 08:45:00\", \"Fri 09:00:00\", \"Fri 09:15:00\", \"Fri 09:30:00\", \"Fri 09:45:00\", \"Fri 10:00:00\", \"Fri 10:15:00\", \"Fri 10:30:00\", \"Fri 10:45:00\", \"Fri 11:00:00\", \"Fri 11:15:00\", \"Fri 11:30:00\", \"Fri 11:45:00\", \"Fri 12:00:00\", \"Fri 12:15:00\", \"Fri 12:30:00\", \"Fri 12:45:00\", \"Fri 13:00:00\", \"Fri 13:15:00\", \"Fri 13:30:00\", \"Fri 13:45:00\", \"Fri 14:00:00\", \"Fri 14:15:00\", \"Fri 14:30:00\", \"Fri 14:45:00\", \"Fri 15:00:00\", \"Fri 15:15:00\", \"Fri 15:30:00\", \"Fri 15:45:00\", \"Fri 16:00:00\", \"Fri 16:15:00\", \"Fri 16:30:00\", \"Fri 16:45:00\", \"Fri 17:00:00\", \"Fri 17:15:00\"], \"tickvals\": [0, 1, 2, 3, 4, 5, 6, 7, 8, 9, 10, 11, 12, 13, 14, 15, 16, 17, 18, 19, 20, 21, 22, 23, 24, 25, 26, 27, 28, 29, 30, 31, 32, 33, 34, 35, 36, 37, 38, 39, 40, 41, 42, 43, 44, 45, 46, 47, 48, 49, 50, 51, 52, 53, 54, 55, 56, 57, 58, 59, 60, 61, 62, 63, 64, 65, 66, 67, 68, 69, 70, 71, 72, 73, 74, 75, 76, 77, 78, 79, 80, 81, 82, 83, 84, 85, 86, 87, 88, 89, 90, 91, 92, 93, 94, 95, 96, 97, 98, 99, 100, 101, 102, 103, 104, 105, 106, 107, 108, 109, 110, 111, 112, 113, 114, 115, 116, 117, 118, 119, 120, 121, 122, 123, 124, 125, 126, 127, 128, 129, 130, 131, 132, 133, 134, 135, 136, 137, 138, 139, 140, 141, 142, 143, 144, 145, 146, 147, 148, 149, 150, 151, 152, 153, 154, 155, 156, 157, 158, 159, 160, 161, 162, 163, 164, 165, 166, 167, 168, 169, 170, 171, 172, 173, 174, 175, 176, 177, 178, 179, 180, 181, 182, 183, 184, 185, 186, 187, 188, 189, 190, 191, 192, 193, 194, 195, 196, 197, 198, 199, 200, 201, 202, 203, 204, 205, 206, 207, 208, 209, 210, 211, 212, 213, 214, 215, 216, 217, 218, 219, 220, 221, 222, 223, 224, 225, 226, 227, 228, 229, 230, 231, 232, 233, 234, 235, 236, 237, 238, 239, 240, 241, 242, 243, 244, 245, 246, 247, 248, 249, 250, 251, 252, 253, 254, 255, 256, 257, 258, 259, 260, 261, 262, 263, 264, 265, 266, 267, 268, 269, 270, 271, 272, 273, 274, 275, 276, 277, 278, 279, 280, 281, 282, 283, 284, 285, 286, 287, 288, 289, 290, 291, 292, 293, 294, 295, 296, 297, 298, 299, 300, 301, 302, 303, 304, 305, 306, 307, 308, 309, 310, 311, 312, 313, 314, 315, 316, 317, 318, 319, 320, 321, 322, 323, 324, 325, 326, 327, 328, 329, 330, 331, 332, 333, 334, 335, 336, 337, 338, 339, 340, 341, 342, 343, 344, 345, 346, 347, 348, 349, 350, 351, 352, 353, 354, 355, 356, 357, 358, 359, 360, 361, 362, 363, 364, 365, 366, 367, 368, 369, 370, 371, 372, 373, 374, 375, 376, 377, 378, 379, 380, 381, 382, 383, 384, 385, 386, 387, 388, 389, 390, 391, 392, 393, 394, 395, 396, 397, 398, 399, 400, 401, 402, 403, 404, 405, 406, 407, 408, 409, 410, 411, 412, 413, 414, 415, 416, 417, 418, 419, 420, 421, 422, 423, 424, 425, 426, 427, 428, 429, 430, 431, 432, 433, 434, 435, 436, 437, 438, 439, 440, 441, 442, 443, 444, 445, 446, 447, 448, 449, 450, 451, 452, 453, 454, 455, 456, 457, 458, 459, 460, 461, 462, 463, 464, 465, 466, 467, 468, 469]}},\n",
              "                        {\"responsive\": true}\n",
              "                    ).then(function(){\n",
              "                            \n",
              "var gd = document.getElementById('66701afb-d6dd-4588-9d7c-dcff8b0d826b');\n",
              "var x = new MutationObserver(function (mutations, observer) {{\n",
              "        var display = window.getComputedStyle(gd).display;\n",
              "        if (!display || display === 'none') {{\n",
              "            console.log([gd, 'removed!']);\n",
              "            Plotly.purge(gd);\n",
              "            observer.disconnect();\n",
              "        }}\n",
              "}});\n",
              "\n",
              "// Listen for the removal of the full notebook cells\n",
              "var notebookContainer = gd.closest('#notebook-container');\n",
              "if (notebookContainer) {{\n",
              "    x.observe(notebookContainer, {childList: true});\n",
              "}}\n",
              "\n",
              "// Listen for the clearing of the current output cell\n",
              "var outputEl = gd.closest('.output');\n",
              "if (outputEl) {{\n",
              "    x.observe(outputEl, {childList: true});\n",
              "}}\n",
              "\n",
              "                        })\n",
              "                };\n",
              "                \n",
              "            </script>\n",
              "        </div>\n",
              "</body>\n",
              "</html>"
            ]
          },
          "metadata": {
            "tags": []
          }
        }
      ]
    },
    {
      "cell_type": "markdown",
      "metadata": {
        "id": "NmRLXADO5wCp",
        "colab_type": "text"
      },
      "source": [
        "## Comparing with Intraday Seasonal\n",
        "\n",
        "The image bellow was getted from Intraday Seasonals site only for camparing purpose.\n",
        "\n",
        "![alt text](https://analysis-cdn.s3.us-east-2.amazonaws.com/Schermata+2019-10-16+alle+16.13.14.png)"
      ]
    }
  ]
}